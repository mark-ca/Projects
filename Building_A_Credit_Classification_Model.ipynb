{
 "cells": [
  {
   "cell_type": "markdown",
   "metadata": {},
   "source": [
    "# Building a Credit Classification Model using Logistic Regression"
   ]
  },
  {
   "cell_type": "markdown",
   "metadata": {},
   "source": [
    "This Python notebook uses data from Lending Club, an online peer-to-peer credit marketplace. We take over 24,000 rows of customer data and attempt to build a credit model using a supervised machine learning technique."
   ]
  },
  {
   "cell_type": "markdown",
   "metadata": {},
   "source": [
    "---"
   ]
  },
  {
   "cell_type": "markdown",
   "metadata": {},
   "source": [
    "## Contents\n",
    "1. Data Preparation\n",
    "2. Exploratory Data Analysis\n",
    "3. Predictive Modelling\n",
    "    * Preprocessing\n",
    "    * Logistic Regression\n",
    "    * Tuning\n",
    "4. Conclusions"
   ]
  },
  {
   "cell_type": "markdown",
   "metadata": {},
   "source": [
    "---"
   ]
  },
  {
   "cell_type": "markdown",
   "metadata": {},
   "source": [
    "## Data Preparation"
   ]
  },
  {
   "cell_type": "markdown",
   "metadata": {},
   "source": [
    "Let's start by importing the required libraries."
   ]
  },
  {
   "cell_type": "code",
   "execution_count": 1,
   "metadata": {
    "collapsed": false
   },
   "outputs": [],
   "source": [
    "import numpy as np\n",
    "import pandas as pd\n",
    "from scipy import stats\n",
    "\n",
    "from matplotlib import pyplot as plt\n",
    "%matplotlib inline\n",
    "import seaborn as sns\n",
    "\n",
    "from sklearn.model_selection import train_test_split, GridSearchCV\n",
    "from sklearn.linear_model import LogisticRegression\n",
    "from sklearn.metrics import confusion_matrix, accuracy_score, classification_report, roc_curve, auc"
   ]
  },
  {
   "cell_type": "markdown",
   "metadata": {},
   "source": [
    "Read the raw data from a .csv file into a Pandas dataframe. Pandas is a powerful library in Python that allows us to manipulate and analyse data."
   ]
  },
  {
   "cell_type": "code",
   "execution_count": 2,
   "metadata": {
    "collapsed": false
   },
   "outputs": [
    {
     "data": {
      "text/html": [
       "<div>\n",
       "<table border=\"1\" class=\"dataframe\">\n",
       "  <thead>\n",
       "    <tr style=\"text-align: right;\">\n",
       "      <th></th>\n",
       "      <th>Loan Amount</th>\n",
       "      <th>Loan Term</th>\n",
       "      <th>Employment Length</th>\n",
       "      <th>Home Ownership</th>\n",
       "      <th>Annual Income</th>\n",
       "      <th>Loan Purpose</th>\n",
       "      <th>Address State</th>\n",
       "      <th>Debt To Income Ratio</th>\n",
       "      <th>No. Delinquencies In Last 2 Years</th>\n",
       "      <th>Earliest Credit Line Opened</th>\n",
       "      <th>...</th>\n",
       "      <th>No. Inquiries In Last 6 Months</th>\n",
       "      <th>Months Since Last Delinquency</th>\n",
       "      <th>No. Of Credit Lines</th>\n",
       "      <th>No. Adverse Public Records</th>\n",
       "      <th>Total Credit Balance</th>\n",
       "      <th>Use Of Credit Line</th>\n",
       "      <th>Total Number Of Credit Lines</th>\n",
       "      <th>Loan Application Description</th>\n",
       "      <th>No. Of Public Record Bankruptcies</th>\n",
       "      <th>Class</th>\n",
       "    </tr>\n",
       "  </thead>\n",
       "  <tbody>\n",
       "    <tr>\n",
       "      <th>0</th>\n",
       "      <td>25000</td>\n",
       "      <td>36 Months</td>\n",
       "      <td>0.5</td>\n",
       "      <td>RENT</td>\n",
       "      <td>85000.0</td>\n",
       "      <td>Debt Consolidation</td>\n",
       "      <td>CA</td>\n",
       "      <td>19.48</td>\n",
       "      <td>None</td>\n",
       "      <td>34380.44375</td>\n",
       "      <td>...</td>\n",
       "      <td>0.0</td>\n",
       "      <td>0</td>\n",
       "      <td>10.0</td>\n",
       "      <td>None</td>\n",
       "      <td>28854.0</td>\n",
       "      <td>52.1</td>\n",
       "      <td>42.0</td>\n",
       "      <td>308</td>\n",
       "      <td>None</td>\n",
       "      <td>Creditworthy</td>\n",
       "    </tr>\n",
       "    <tr>\n",
       "      <th>1</th>\n",
       "      <td>7000</td>\n",
       "      <td>36 Months</td>\n",
       "      <td>0.5</td>\n",
       "      <td>RENT</td>\n",
       "      <td>65000.0</td>\n",
       "      <td>Credit Card</td>\n",
       "      <td>NY</td>\n",
       "      <td>14.29</td>\n",
       "      <td>None</td>\n",
       "      <td>36820.52083</td>\n",
       "      <td>...</td>\n",
       "      <td>0.0</td>\n",
       "      <td>0</td>\n",
       "      <td>7.0</td>\n",
       "      <td>None</td>\n",
       "      <td>33623.0</td>\n",
       "      <td>76.7</td>\n",
       "      <td>7.0</td>\n",
       "      <td>71</td>\n",
       "      <td>None</td>\n",
       "      <td>Creditworthy</td>\n",
       "    </tr>\n",
       "    <tr>\n",
       "      <th>2</th>\n",
       "      <td>1200</td>\n",
       "      <td>36 Months</td>\n",
       "      <td>10.0</td>\n",
       "      <td>OWN</td>\n",
       "      <td>54000.0</td>\n",
       "      <td>Debt Consolidation</td>\n",
       "      <td>TX</td>\n",
       "      <td>5.47</td>\n",
       "      <td>None</td>\n",
       "      <td>31068.22222</td>\n",
       "      <td>...</td>\n",
       "      <td>0.0</td>\n",
       "      <td>64</td>\n",
       "      <td>5.0</td>\n",
       "      <td>None</td>\n",
       "      <td>2584.0</td>\n",
       "      <td>40.4</td>\n",
       "      <td>31.0</td>\n",
       "      <td>748</td>\n",
       "      <td>None</td>\n",
       "      <td>Creditworthy</td>\n",
       "    </tr>\n",
       "    <tr>\n",
       "      <th>3</th>\n",
       "      <td>10800</td>\n",
       "      <td>36 Months</td>\n",
       "      <td>6.0</td>\n",
       "      <td>RENT</td>\n",
       "      <td>32000.0</td>\n",
       "      <td>Debt Consolidation</td>\n",
       "      <td>CT</td>\n",
       "      <td>11.63</td>\n",
       "      <td>None</td>\n",
       "      <td>35411.32431</td>\n",
       "      <td>...</td>\n",
       "      <td>1.0</td>\n",
       "      <td>58</td>\n",
       "      <td>14.0</td>\n",
       "      <td>None</td>\n",
       "      <td>3511.0</td>\n",
       "      <td>25.6</td>\n",
       "      <td>40.0</td>\n",
       "      <td>403</td>\n",
       "      <td>None</td>\n",
       "      <td>Creditworthy</td>\n",
       "    </tr>\n",
       "    <tr>\n",
       "      <th>4</th>\n",
       "      <td>7500</td>\n",
       "      <td>36 Months</td>\n",
       "      <td>3.0</td>\n",
       "      <td>RENT</td>\n",
       "      <td>85000.0</td>\n",
       "      <td>Debt Consolidation</td>\n",
       "      <td>CA</td>\n",
       "      <td>8.10</td>\n",
       "      <td>None</td>\n",
       "      <td>36846.05278</td>\n",
       "      <td>...</td>\n",
       "      <td>1.0</td>\n",
       "      <td>0</td>\n",
       "      <td>3.0</td>\n",
       "      <td>None</td>\n",
       "      <td>33667.0</td>\n",
       "      <td>73.2</td>\n",
       "      <td>11.0</td>\n",
       "      <td>293</td>\n",
       "      <td>None</td>\n",
       "      <td>Creditworthy</td>\n",
       "    </tr>\n",
       "  </tbody>\n",
       "</table>\n",
       "<p>5 rows × 21 columns</p>\n",
       "</div>"
      ],
      "text/plain": [
       "   Loan Amount  Loan Term  Employment Length Home Ownership  Annual Income  \\\n",
       "0        25000  36 Months                0.5           RENT        85000.0   \n",
       "1         7000  36 Months                0.5           RENT        65000.0   \n",
       "2         1200  36 Months               10.0            OWN        54000.0   \n",
       "3        10800  36 Months                6.0           RENT        32000.0   \n",
       "4         7500  36 Months                3.0           RENT        85000.0   \n",
       "\n",
       "         Loan Purpose Address State  Debt To Income Ratio  \\\n",
       "0  Debt Consolidation            CA                 19.48   \n",
       "1         Credit Card            NY                 14.29   \n",
       "2  Debt Consolidation            TX                  5.47   \n",
       "3  Debt Consolidation            CT                 11.63   \n",
       "4  Debt Consolidation            CA                  8.10   \n",
       "\n",
       "  No. Delinquencies In Last 2 Years  Earliest Credit Line Opened  \\\n",
       "0                              None                  34380.44375   \n",
       "1                              None                  36820.52083   \n",
       "2                              None                  31068.22222   \n",
       "3                              None                  35411.32431   \n",
       "4                              None                  36846.05278   \n",
       "\n",
       "       ...       No. Inquiries In Last 6 Months  \\\n",
       "0      ...                                  0.0   \n",
       "1      ...                                  0.0   \n",
       "2      ...                                  0.0   \n",
       "3      ...                                  1.0   \n",
       "4      ...                                  1.0   \n",
       "\n",
       "   Months Since Last Delinquency  No. Of Credit Lines  \\\n",
       "0                              0                 10.0   \n",
       "1                              0                  7.0   \n",
       "2                             64                  5.0   \n",
       "3                             58                 14.0   \n",
       "4                              0                  3.0   \n",
       "\n",
       "   No. Adverse Public Records Total Credit Balance  Use Of Credit Line  \\\n",
       "0                        None              28854.0                52.1   \n",
       "1                        None              33623.0                76.7   \n",
       "2                        None               2584.0                40.4   \n",
       "3                        None               3511.0                25.6   \n",
       "4                        None              33667.0                73.2   \n",
       "\n",
       "   Total Number Of Credit Lines  Loan Application Description  \\\n",
       "0                          42.0                           308   \n",
       "1                           7.0                            71   \n",
       "2                          31.0                           748   \n",
       "3                          40.0                           403   \n",
       "4                          11.0                           293   \n",
       "\n",
       "   No. Of Public Record Bankruptcies         Class  \n",
       "0                               None  Creditworthy  \n",
       "1                               None  Creditworthy  \n",
       "2                               None  Creditworthy  \n",
       "3                               None  Creditworthy  \n",
       "4                               None  Creditworthy  \n",
       "\n",
       "[5 rows x 21 columns]"
      ]
     },
     "execution_count": 2,
     "metadata": {},
     "output_type": "execute_result"
    }
   ],
   "source": [
    "df = pd.read_csv('data/LendingClub.csv')\n",
    "df.head()"
   ]
  },
  {
   "cell_type": "markdown",
   "metadata": {},
   "source": [
    "Read through the columns to see what we have."
   ]
  },
  {
   "cell_type": "code",
   "execution_count": 3,
   "metadata": {
    "collapsed": false
   },
   "outputs": [
    {
     "data": {
      "text/plain": [
       "Index([u'Loan Amount', u'Loan Term', u'Employment Length', u'Home Ownership',\n",
       "       u'Annual Income', u'Loan Purpose', u'Address State',\n",
       "       u'Debt To Income Ratio', u'No. Delinquencies In Last 2 Years',\n",
       "       u'Earliest Credit Line Opened', u'FICO Credit Score',\n",
       "       u'No. Inquiries In Last 6 Months', u'Months Since Last Delinquency',\n",
       "       u'No. Of Credit Lines', u'No. Adverse Public Records',\n",
       "       u'Total Credit Balance', u'Use Of Credit Line',\n",
       "       u'Total Number Of Credit Lines', u'Loan Application Description',\n",
       "       u'No. Of Public Record Bankruptcies', u'Class'],\n",
       "      dtype='object')"
      ]
     },
     "execution_count": 3,
     "metadata": {},
     "output_type": "execute_result"
    }
   ],
   "source": [
    "df.columns"
   ]
  },
  {
   "cell_type": "code",
   "execution_count": 4,
   "metadata": {
    "collapsed": false
   },
   "outputs": [
    {
     "data": {
      "text/plain": [
       "Loan Amount                            int64\n",
       "Loan Term                             object\n",
       "Employment Length                    float64\n",
       "Home Ownership                        object\n",
       "Annual Income                        float64\n",
       "Loan Purpose                          object\n",
       "Address State                         object\n",
       "Debt To Income Ratio                 float64\n",
       "No. Delinquencies In Last 2 Years     object\n",
       "Earliest Credit Line Opened          float64\n",
       "FICO Credit Score                    float64\n",
       "No. Inquiries In Last 6 Months       float64\n",
       "Months Since Last Delinquency          int64\n",
       "No. Of Credit Lines                  float64\n",
       "No. Adverse Public Records            object\n",
       "Total Credit Balance                 float64\n",
       "Use Of Credit Line                   float64\n",
       "Total Number Of Credit Lines         float64\n",
       "Loan Application Description           int64\n",
       "No. Of Public Record Bankruptcies     object\n",
       "Class                                 object\n",
       "dtype: object"
      ]
     },
     "execution_count": 4,
     "metadata": {},
     "output_type": "execute_result"
    }
   ],
   "source": [
    "df.dtypes"
   ]
  },
  {
   "cell_type": "markdown",
   "metadata": {},
   "source": [
    "At this point it is worth taking a look at what the data is, and maybe form some assumptions on it. Factors such as 'Loan Amount' and 'Loan Purpose' are self explanatory. Others, however, maybe less so.\n",
    "\n",
    "For example, 'Earliest Credit Line Opened' is a floating point number. Is this a date format?\n",
    "\n",
    "Then we have 'No. Of Credit Lines' and 'Total Number Of Credit Lines'. Perhaps 'No. Of Credit Lines' means credit lines open right now whereas 'Total Number Of Credit Lines' is a cumulative total.\n",
    "\n",
    "So there a few features that aren't entirely clear as to what they are so we need to be mindful of that as we complete the exercise."
   ]
  },
  {
   "cell_type": "markdown",
   "metadata": {},
   "source": [
    "Clearly there are many features in the data. We need to scan through the columns and prepare the data to feed into the model. This 'data cleaning' is often a lengthy and time consuming process but is absolutely vital in order to ensure our model produces a quality result.\n",
    "\n",
    "Integers and floats are great, these can be fed into a model without much hassle. An object however, which is an amorphous bunch of data, needs to be altered to make sure the inputs are in line with what the computer requires."
   ]
  },
  {
   "cell_type": "markdown",
   "metadata": {},
   "source": [
    "The 'Loan Term' column needs to be stripped of 'months' and converted to an integer."
   ]
  },
  {
   "cell_type": "code",
   "execution_count": 5,
   "metadata": {
    "collapsed": false
   },
   "outputs": [],
   "source": [
    "df['Loan Term'] = df['Loan Term'].str.replace(' Months', '')\n",
    "df['Loan Term'] = df['Loan Term'].astype(int)"
   ]
  },
  {
   "cell_type": "markdown",
   "metadata": {},
   "source": [
    "We see that 'No. Delinquencies In Last 2 Years' contains numerical data but in written form. Let's use the map function to transpose these words to numbers."
   ]
  },
  {
   "cell_type": "code",
   "execution_count": 6,
   "metadata": {
    "collapsed": false
   },
   "outputs": [
    {
     "data": {
      "text/plain": [
       "None     21981\n",
       "One       2119\n",
       "Two        470\n",
       "Three      148\n",
       "Four        28\n",
       "Five        16\n",
       "Six          8\n",
       "Seven        2\n",
       "Eight        2\n",
       "Nine         1\n",
       "Name: No. Delinquencies In Last 2 Years, dtype: int64"
      ]
     },
     "execution_count": 6,
     "metadata": {},
     "output_type": "execute_result"
    }
   ],
   "source": [
    "df['No. Delinquencies In Last 2 Years'].value_counts()"
   ]
  },
  {
   "cell_type": "code",
   "execution_count": 7,
   "metadata": {
    "collapsed": true
   },
   "outputs": [],
   "source": [
    "numbers = {'None': 0,\n",
    "           'One': 1,\n",
    "           'Two': 2,\n",
    "           'Three': 3,\n",
    "           'Four': 4,\n",
    "           'Five': 5,\n",
    "           'Six': 6,\n",
    "           'Seven': 7,\n",
    "           'Eight': 8,\n",
    "           'Nine': 9}\n",
    "\n",
    "df['No. Delinquencies In Last 2 Years'] = df['No. Delinquencies In Last 2 Years'].map(numbers)"
   ]
  },
  {
   "cell_type": "code",
   "execution_count": 8,
   "metadata": {
    "collapsed": false
   },
   "outputs": [
    {
     "data": {
      "text/plain": [
       "0.0    21981\n",
       "1.0     2119\n",
       "2.0      470\n",
       "3.0      148\n",
       "4.0       28\n",
       "5.0       16\n",
       "6.0        8\n",
       "8.0        2\n",
       "7.0        2\n",
       "9.0        1\n",
       "Name: No. Delinquencies In Last 2 Years, dtype: int64"
      ]
     },
     "execution_count": 8,
     "metadata": {},
     "output_type": "execute_result"
    }
   ],
   "source": [
    "df['No. Delinquencies In Last 2 Years'].value_counts()"
   ]
  },
  {
   "cell_type": "markdown",
   "metadata": {},
   "source": [
    "Using the *value_counts* method will show us that we need to do the same for 'No. Adverse Public Records' and 'No. Of Public Record Bankruptcies'."
   ]
  },
  {
   "cell_type": "code",
   "execution_count": 9,
   "metadata": {
    "collapsed": true
   },
   "outputs": [],
   "source": [
    "df['No. Adverse Public Records'] = df['No. Adverse Public Records'].map(numbers)\n",
    "df['No. Of Public Record Bankruptcies'] = df['No. Of Public Record Bankruptcies'].map(numbers)"
   ]
  },
  {
   "cell_type": "markdown",
   "metadata": {},
   "source": [
    "At this point check for null values in the dataframe. We will have to address these by either removing or imputing values."
   ]
  },
  {
   "cell_type": "code",
   "execution_count": 10,
   "metadata": {
    "collapsed": false
   },
   "outputs": [
    {
     "data": {
      "text/plain": [
       "Loan Amount                           0\n",
       "Loan Term                             0\n",
       "Employment Length                     0\n",
       "Home Ownership                        0\n",
       "Annual Income                         0\n",
       "Loan Purpose                          0\n",
       "Address State                         1\n",
       "Debt To Income Ratio                  1\n",
       "No. Delinquencies In Last 2 Years     1\n",
       "Earliest Credit Line Opened           0\n",
       "FICO Credit Score                     1\n",
       "No. Inquiries In Last 6 Months        1\n",
       "Months Since Last Delinquency         0\n",
       "No. Of Credit Lines                   1\n",
       "No. Adverse Public Records            1\n",
       "Total Credit Balance                  1\n",
       "Use Of Credit Line                   52\n",
       "Total Number Of Credit Lines          1\n",
       "Loan Application Description          0\n",
       "No. Of Public Record Bankruptcies     0\n",
       "Class                                 0\n",
       "dtype: int64"
      ]
     },
     "execution_count": 10,
     "metadata": {},
     "output_type": "execute_result"
    }
   ],
   "source": [
    "df.isnull().sum()"
   ]
  },
  {
   "cell_type": "code",
   "execution_count": 11,
   "metadata": {
    "collapsed": false
   },
   "outputs": [
    {
     "data": {
      "text/html": [
       "<div>\n",
       "<table border=\"1\" class=\"dataframe\">\n",
       "  <thead>\n",
       "    <tr style=\"text-align: right;\">\n",
       "      <th></th>\n",
       "      <th>Loan Amount</th>\n",
       "      <th>Loan Term</th>\n",
       "      <th>Employment Length</th>\n",
       "      <th>Home Ownership</th>\n",
       "      <th>Annual Income</th>\n",
       "      <th>Loan Purpose</th>\n",
       "      <th>Address State</th>\n",
       "      <th>Debt To Income Ratio</th>\n",
       "      <th>No. Delinquencies In Last 2 Years</th>\n",
       "      <th>Earliest Credit Line Opened</th>\n",
       "      <th>...</th>\n",
       "      <th>No. Inquiries In Last 6 Months</th>\n",
       "      <th>Months Since Last Delinquency</th>\n",
       "      <th>No. Of Credit Lines</th>\n",
       "      <th>No. Adverse Public Records</th>\n",
       "      <th>Total Credit Balance</th>\n",
       "      <th>Use Of Credit Line</th>\n",
       "      <th>Total Number Of Credit Lines</th>\n",
       "      <th>Loan Application Description</th>\n",
       "      <th>No. Of Public Record Bankruptcies</th>\n",
       "      <th>Class</th>\n",
       "    </tr>\n",
       "  </thead>\n",
       "  <tbody>\n",
       "    <tr>\n",
       "      <th>7666</th>\n",
       "      <td>14400</td>\n",
       "      <td>36</td>\n",
       "      <td>4.0</td>\n",
       "      <td>RENT</td>\n",
       "      <td>60000.0</td>\n",
       "      <td>0</td>\n",
       "      <td>NaN</td>\n",
       "      <td>NaN</td>\n",
       "      <td>NaN</td>\n",
       "      <td>30000.0</td>\n",
       "      <td>...</td>\n",
       "      <td>NaN</td>\n",
       "      <td>0</td>\n",
       "      <td>NaN</td>\n",
       "      <td>NaN</td>\n",
       "      <td>NaN</td>\n",
       "      <td>NaN</td>\n",
       "      <td>NaN</td>\n",
       "      <td>65</td>\n",
       "      <td>0</td>\n",
       "      <td>Creditworthy</td>\n",
       "    </tr>\n",
       "  </tbody>\n",
       "</table>\n",
       "<p>1 rows × 21 columns</p>\n",
       "</div>"
      ],
      "text/plain": [
       "      Loan Amount  Loan Term  Employment Length Home Ownership  Annual Income  \\\n",
       "7666        14400         36                4.0           RENT        60000.0   \n",
       "\n",
       "     Loan Purpose Address State  Debt To Income Ratio  \\\n",
       "7666            0           NaN                   NaN   \n",
       "\n",
       "      No. Delinquencies In Last 2 Years  Earliest Credit Line Opened  \\\n",
       "7666                                NaN                      30000.0   \n",
       "\n",
       "          ...       No. Inquiries In Last 6 Months  \\\n",
       "7666      ...                                  NaN   \n",
       "\n",
       "      Months Since Last Delinquency  No. Of Credit Lines  \\\n",
       "7666                              0                  NaN   \n",
       "\n",
       "      No. Adverse Public Records  Total Credit Balance  Use Of Credit Line  \\\n",
       "7666                         NaN                   NaN                 NaN   \n",
       "\n",
       "      Total Number Of Credit Lines  Loan Application Description  \\\n",
       "7666                           NaN                            65   \n",
       "\n",
       "      No. Of Public Record Bankruptcies         Class  \n",
       "7666                                  0  Creditworthy  \n",
       "\n",
       "[1 rows x 21 columns]"
      ]
     },
     "execution_count": 11,
     "metadata": {},
     "output_type": "execute_result"
    }
   ],
   "source": [
    "df.loc[df['Address State'].isnull(),:]"
   ]
  },
  {
   "cell_type": "markdown",
   "metadata": {},
   "source": [
    "It appears that this row is responsible for many of the single null values above! Let's remove it."
   ]
  },
  {
   "cell_type": "code",
   "execution_count": 12,
   "metadata": {
    "collapsed": true
   },
   "outputs": [],
   "source": [
    "df = df.dropna(axis = 0, subset = ['Address State'])"
   ]
  },
  {
   "cell_type": "markdown",
   "metadata": {},
   "source": [
    "We still have 51 cases where 'Use Of Credit Line' contains an error."
   ]
  },
  {
   "cell_type": "code",
   "execution_count": 13,
   "metadata": {
    "collapsed": false
   },
   "outputs": [],
   "source": [
    "df = df.dropna(axis = 0, subset = ['Use Of Credit Line'])"
   ]
  },
  {
   "cell_type": "code",
   "execution_count": 14,
   "metadata": {
    "collapsed": false
   },
   "outputs": [
    {
     "data": {
      "text/plain": [
       "Loan Amount                          0\n",
       "Loan Term                            0\n",
       "Employment Length                    0\n",
       "Home Ownership                       0\n",
       "Annual Income                        0\n",
       "Loan Purpose                         0\n",
       "Address State                        0\n",
       "Debt To Income Ratio                 0\n",
       "No. Delinquencies In Last 2 Years    0\n",
       "Earliest Credit Line Opened          0\n",
       "FICO Credit Score                    0\n",
       "No. Inquiries In Last 6 Months       0\n",
       "Months Since Last Delinquency        0\n",
       "No. Of Credit Lines                  0\n",
       "No. Adverse Public Records           0\n",
       "Total Credit Balance                 0\n",
       "Use Of Credit Line                   0\n",
       "Total Number Of Credit Lines         0\n",
       "Loan Application Description         0\n",
       "No. Of Public Record Bankruptcies    0\n",
       "Class                                0\n",
       "dtype: int64"
      ]
     },
     "execution_count": 14,
     "metadata": {},
     "output_type": "execute_result"
    }
   ],
   "source": [
    "df.isnull().sum()"
   ]
  },
  {
   "cell_type": "markdown",
   "metadata": {},
   "source": [
    "Now we have the 'Class' column. This is important, as we will be training our model on this data. We can use the lambda function to convert the success of the loan into a binary output."
   ]
  },
  {
   "cell_type": "code",
   "execution_count": 15,
   "metadata": {
    "collapsed": false
   },
   "outputs": [],
   "source": [
    "df['Class'] = df['Class'].map(lambda x: 0 if x == 'Uncreditworthy' else 1)"
   ]
  },
  {
   "cell_type": "markdown",
   "metadata": {},
   "source": [
    "Ok, that brings the data cleaning and wrangling to an end. We now have a contiguous dataset that we can explore."
   ]
  },
  {
   "cell_type": "markdown",
   "metadata": {},
   "source": [
    "---"
   ]
  },
  {
   "cell_type": "markdown",
   "metadata": {},
   "source": [
    "## Exploratory Data Analysis"
   ]
  },
  {
   "cell_type": "code",
   "execution_count": 16,
   "metadata": {
    "collapsed": false
   },
   "outputs": [
    {
     "data": {
      "text/html": [
       "<div>\n",
       "<table border=\"1\" class=\"dataframe\">\n",
       "  <thead>\n",
       "    <tr style=\"text-align: right;\">\n",
       "      <th></th>\n",
       "      <th>Loan Amount</th>\n",
       "      <th>Loan Term</th>\n",
       "      <th>Employment Length</th>\n",
       "      <th>Annual Income</th>\n",
       "      <th>Debt To Income Ratio</th>\n",
       "      <th>No. Delinquencies In Last 2 Years</th>\n",
       "      <th>Earliest Credit Line Opened</th>\n",
       "      <th>FICO Credit Score</th>\n",
       "      <th>No. Inquiries In Last 6 Months</th>\n",
       "      <th>Months Since Last Delinquency</th>\n",
       "      <th>No. Of Credit Lines</th>\n",
       "      <th>No. Adverse Public Records</th>\n",
       "      <th>Total Credit Balance</th>\n",
       "      <th>Use Of Credit Line</th>\n",
       "      <th>Total Number Of Credit Lines</th>\n",
       "      <th>Loan Application Description</th>\n",
       "      <th>No. Of Public Record Bankruptcies</th>\n",
       "      <th>Class</th>\n",
       "    </tr>\n",
       "  </thead>\n",
       "  <tbody>\n",
       "    <tr>\n",
       "      <th>count</th>\n",
       "      <td>24724.000000</td>\n",
       "      <td>24724.000000</td>\n",
       "      <td>24724.000000</td>\n",
       "      <td>24724.000000</td>\n",
       "      <td>24724.000000</td>\n",
       "      <td>24724.000000</td>\n",
       "      <td>24724.000000</td>\n",
       "      <td>24724.000000</td>\n",
       "      <td>24724.000000</td>\n",
       "      <td>24724.000000</td>\n",
       "      <td>24724.000000</td>\n",
       "      <td>24724.000000</td>\n",
       "      <td>24724.000000</td>\n",
       "      <td>24724.000000</td>\n",
       "      <td>24724.000000</td>\n",
       "      <td>24724.000000</td>\n",
       "      <td>24724.000000</td>\n",
       "      <td>24724.000000</td>\n",
       "    </tr>\n",
       "    <tr>\n",
       "      <th>mean</th>\n",
       "      <td>11126.041498</td>\n",
       "      <td>40.061479</td>\n",
       "      <td>4.813582</td>\n",
       "      <td>67218.870552</td>\n",
       "      <td>13.238482</td>\n",
       "      <td>0.152686</td>\n",
       "      <td>35645.464526</td>\n",
       "      <td>713.219948</td>\n",
       "      <td>0.953082</td>\n",
       "      <td>12.841814</td>\n",
       "      <td>9.439411</td>\n",
       "      <td>0.054037</td>\n",
       "      <td>12512.026209</td>\n",
       "      <td>47.949507</td>\n",
       "      <td>22.604150</td>\n",
       "      <td>257.233457</td>\n",
       "      <td>0.040932</td>\n",
       "      <td>0.818759</td>\n",
       "    </tr>\n",
       "    <tr>\n",
       "      <th>std</th>\n",
       "      <td>7333.750845</td>\n",
       "      <td>8.999064</td>\n",
       "      <td>3.529072</td>\n",
       "      <td>37271.387287</td>\n",
       "      <td>6.907940</td>\n",
       "      <td>0.499833</td>\n",
       "      <td>2243.365269</td>\n",
       "      <td>36.444795</td>\n",
       "      <td>1.112118</td>\n",
       "      <td>21.552419</td>\n",
       "      <td>4.510511</td>\n",
       "      <td>0.236072</td>\n",
       "      <td>12021.035764</td>\n",
       "      <td>28.529554</td>\n",
       "      <td>11.742723</td>\n",
       "      <td>295.284337</td>\n",
       "      <td>0.199155</td>\n",
       "      <td>0.385225</td>\n",
       "    </tr>\n",
       "    <tr>\n",
       "      <th>min</th>\n",
       "      <td>500.000000</td>\n",
       "      <td>36.000000</td>\n",
       "      <td>0.000000</td>\n",
       "      <td>4000.000000</td>\n",
       "      <td>0.000000</td>\n",
       "      <td>0.000000</td>\n",
       "      <td>30000.000000</td>\n",
       "      <td>625.000000</td>\n",
       "      <td>0.000000</td>\n",
       "      <td>0.000000</td>\n",
       "      <td>1.000000</td>\n",
       "      <td>0.000000</td>\n",
       "      <td>0.000000</td>\n",
       "      <td>0.000000</td>\n",
       "      <td>2.000000</td>\n",
       "      <td>0.000000</td>\n",
       "      <td>0.000000</td>\n",
       "      <td>0.000000</td>\n",
       "    </tr>\n",
       "    <tr>\n",
       "      <th>25%</th>\n",
       "      <td>5500.000000</td>\n",
       "      <td>36.000000</td>\n",
       "      <td>2.000000</td>\n",
       "      <td>41000.000000</td>\n",
       "      <td>7.950000</td>\n",
       "      <td>0.000000</td>\n",
       "      <td>34409.226215</td>\n",
       "      <td>685.000000</td>\n",
       "      <td>0.000000</td>\n",
       "      <td>0.000000</td>\n",
       "      <td>6.000000</td>\n",
       "      <td>0.000000</td>\n",
       "      <td>3706.000000</td>\n",
       "      <td>24.200000</td>\n",
       "      <td>14.000000</td>\n",
       "      <td>0.000000</td>\n",
       "      <td>0.000000</td>\n",
       "      <td>1.000000</td>\n",
       "    </tr>\n",
       "    <tr>\n",
       "      <th>50%</th>\n",
       "      <td>10000.000000</td>\n",
       "      <td>36.000000</td>\n",
       "      <td>4.000000</td>\n",
       "      <td>60000.000000</td>\n",
       "      <td>13.280000</td>\n",
       "      <td>0.000000</td>\n",
       "      <td>36042.225695</td>\n",
       "      <td>705.000000</td>\n",
       "      <td>1.000000</td>\n",
       "      <td>0.000000</td>\n",
       "      <td>9.000000</td>\n",
       "      <td>0.000000</td>\n",
       "      <td>8906.000000</td>\n",
       "      <td>48.300000</td>\n",
       "      <td>21.000000</td>\n",
       "      <td>153.000000</td>\n",
       "      <td>0.000000</td>\n",
       "      <td>1.000000</td>\n",
       "    </tr>\n",
       "    <tr>\n",
       "      <th>75%</th>\n",
       "      <td>15000.000000</td>\n",
       "      <td>36.000000</td>\n",
       "      <td>8.000000</td>\n",
       "      <td>83004.000000</td>\n",
       "      <td>18.570000</td>\n",
       "      <td>0.000000</td>\n",
       "      <td>37200.247048</td>\n",
       "      <td>740.000000</td>\n",
       "      <td>2.000000</td>\n",
       "      <td>21.000000</td>\n",
       "      <td>12.000000</td>\n",
       "      <td>0.000000</td>\n",
       "      <td>17264.000000</td>\n",
       "      <td>71.700000</td>\n",
       "      <td>29.000000</td>\n",
       "      <td>379.000000</td>\n",
       "      <td>0.000000</td>\n",
       "      <td>1.000000</td>\n",
       "    </tr>\n",
       "    <tr>\n",
       "      <th>max</th>\n",
       "      <td>35000.000000</td>\n",
       "      <td>60.000000</td>\n",
       "      <td>10.000000</td>\n",
       "      <td>200000.000000</td>\n",
       "      <td>34.980000</td>\n",
       "      <td>9.000000</td>\n",
       "      <td>40075.198610</td>\n",
       "      <td>845.000000</td>\n",
       "      <td>8.000000</td>\n",
       "      <td>106.000000</td>\n",
       "      <td>49.000000</td>\n",
       "      <td>4.000000</td>\n",
       "      <td>50000.000000</td>\n",
       "      <td>100.900000</td>\n",
       "      <td>90.000000</td>\n",
       "      <td>1000.000000</td>\n",
       "      <td>2.000000</td>\n",
       "      <td>1.000000</td>\n",
       "    </tr>\n",
       "  </tbody>\n",
       "</table>\n",
       "</div>"
      ],
      "text/plain": [
       "        Loan Amount     Loan Term  Employment Length  Annual Income  \\\n",
       "count  24724.000000  24724.000000       24724.000000   24724.000000   \n",
       "mean   11126.041498     40.061479           4.813582   67218.870552   \n",
       "std     7333.750845      8.999064           3.529072   37271.387287   \n",
       "min      500.000000     36.000000           0.000000    4000.000000   \n",
       "25%     5500.000000     36.000000           2.000000   41000.000000   \n",
       "50%    10000.000000     36.000000           4.000000   60000.000000   \n",
       "75%    15000.000000     36.000000           8.000000   83004.000000   \n",
       "max    35000.000000     60.000000          10.000000  200000.000000   \n",
       "\n",
       "       Debt To Income Ratio  No. Delinquencies In Last 2 Years  \\\n",
       "count          24724.000000                       24724.000000   \n",
       "mean              13.238482                           0.152686   \n",
       "std                6.907940                           0.499833   \n",
       "min                0.000000                           0.000000   \n",
       "25%                7.950000                           0.000000   \n",
       "50%               13.280000                           0.000000   \n",
       "75%               18.570000                           0.000000   \n",
       "max               34.980000                           9.000000   \n",
       "\n",
       "       Earliest Credit Line Opened  FICO Credit Score  \\\n",
       "count                 24724.000000       24724.000000   \n",
       "mean                  35645.464526         713.219948   \n",
       "std                    2243.365269          36.444795   \n",
       "min                   30000.000000         625.000000   \n",
       "25%                   34409.226215         685.000000   \n",
       "50%                   36042.225695         705.000000   \n",
       "75%                   37200.247048         740.000000   \n",
       "max                   40075.198610         845.000000   \n",
       "\n",
       "       No. Inquiries In Last 6 Months  Months Since Last Delinquency  \\\n",
       "count                    24724.000000                   24724.000000   \n",
       "mean                         0.953082                      12.841814   \n",
       "std                          1.112118                      21.552419   \n",
       "min                          0.000000                       0.000000   \n",
       "25%                          0.000000                       0.000000   \n",
       "50%                          1.000000                       0.000000   \n",
       "75%                          2.000000                      21.000000   \n",
       "max                          8.000000                     106.000000   \n",
       "\n",
       "       No. Of Credit Lines  No. Adverse Public Records  Total Credit Balance  \\\n",
       "count         24724.000000                24724.000000          24724.000000   \n",
       "mean              9.439411                    0.054037          12512.026209   \n",
       "std               4.510511                    0.236072          12021.035764   \n",
       "min               1.000000                    0.000000              0.000000   \n",
       "25%               6.000000                    0.000000           3706.000000   \n",
       "50%               9.000000                    0.000000           8906.000000   \n",
       "75%              12.000000                    0.000000          17264.000000   \n",
       "max              49.000000                    4.000000          50000.000000   \n",
       "\n",
       "       Use Of Credit Line  Total Number Of Credit Lines  \\\n",
       "count        24724.000000                  24724.000000   \n",
       "mean            47.949507                     22.604150   \n",
       "std             28.529554                     11.742723   \n",
       "min              0.000000                      2.000000   \n",
       "25%             24.200000                     14.000000   \n",
       "50%             48.300000                     21.000000   \n",
       "75%             71.700000                     29.000000   \n",
       "max            100.900000                     90.000000   \n",
       "\n",
       "       Loan Application Description  No. Of Public Record Bankruptcies  \\\n",
       "count                  24724.000000                       24724.000000   \n",
       "mean                     257.233457                           0.040932   \n",
       "std                      295.284337                           0.199155   \n",
       "min                        0.000000                           0.000000   \n",
       "25%                        0.000000                           0.000000   \n",
       "50%                      153.000000                           0.000000   \n",
       "75%                      379.000000                           0.000000   \n",
       "max                     1000.000000                           2.000000   \n",
       "\n",
       "              Class  \n",
       "count  24724.000000  \n",
       "mean       0.818759  \n",
       "std        0.385225  \n",
       "min        0.000000  \n",
       "25%        1.000000  \n",
       "50%        1.000000  \n",
       "75%        1.000000  \n",
       "max        1.000000  "
      ]
     },
     "execution_count": 16,
     "metadata": {},
     "output_type": "execute_result"
    }
   ],
   "source": [
    "df.describe()"
   ]
  },
  {
   "cell_type": "markdown",
   "metadata": {},
   "source": [
    "* We see that the mean loan amount is just over USD 11,000 with a mean annual income of USD 67,000.\n",
    "* Median FICO Credit Score of 705 with an interquartile range of 685 to 740.\n",
    "* Customers typically have a total credit balance of USD 12,500."
   ]
  },
  {
   "cell_type": "code",
   "execution_count": 17,
   "metadata": {
    "collapsed": false
   },
   "outputs": [
    {
     "data": {
      "image/png": "[encoded data removed]",
      "text/plain": [
       "<matplotlib.figure.Figure at 0x114468450>"
      ]
     },
     "metadata": {},
     "output_type": "display_data"
    }
   ],
   "source": [
    "plt.figure(figsize = (12,3))\n",
    "\n",
    "plt.subplot(1,2,1)\n",
    "plt.hist(df['Loan Amount'], bins = 20)\n",
    "plt.ylabel('Frequency', fontsize = 8)\n",
    "plt.title('Histogram of Loan Amount', fontsize = 10)\n",
    "\n",
    "plt.subplot(1,2,2)\n",
    "plt.hist(df['Annual Income'], bins = 20)\n",
    "plt.ylabel('Frequency', fontsize = 8)\n",
    "plt.title('Histogram of Annual Income', fontsize = 10)\n",
    "\n",
    "plt.show()"
   ]
  },
  {
   "cell_type": "markdown",
   "metadata": {},
   "source": [
    "In Python we can use Pandas to perform plotting but we also have libraries called Matplotlib and Seaborn which create simple visualisation features. Above we have a pair of histograms showing the distributions of loan amounts and annual income. And below the bar chart shows the average credit score for customers type 0 (defaulters) and type 1 (repayers) across a range of loan purposes. It is always quite useful to plot out a few charts to help crystallise the data and what it represents."
   ]
  },
  {
   "cell_type": "code",
   "execution_count": 18,
   "metadata": {
    "collapsed": false
   },
   "outputs": [
    {
     "data": {
      "image/png": "[encoded data removed]",
      "text/plain": [
       "<matplotlib.figure.Figure at 0x114478410>"
      ]
     },
     "metadata": {},
     "output_type": "display_data"
    }
   ],
   "source": [
    "df.groupby(['Loan Purpose', 'Class'])['FICO Credit Score'].mean().unstack().plot(kind = 'bar', figsize = (11,3), width = 0.7)\n",
    "plt.xticks(rotation = 45)\n",
    "plt.xlabel('Loan Purpose')\n",
    "plt.ylabel('Mean FICO Credit Score')\n",
    "plt.ylim(690, 740)\n",
    "plt.show()"
   ]
  },
  {
   "cell_type": "markdown",
   "metadata": {},
   "source": [
    "---"
   ]
  },
  {
   "cell_type": "markdown",
   "metadata": {},
   "source": [
    "## Predictive Modelling"
   ]
  },
  {
   "cell_type": "markdown",
   "metadata": {},
   "source": [
    "### Preprocessing"
   ]
  },
  {
   "cell_type": "markdown",
   "metadata": {},
   "source": [
    "We have spent time cleaning the data and exploring some early relationships between the variables. Our final goal in this notebook however is to build a credit model that will help us determine whether or not to give credit to a customer. We will start by creating a feature matrix X of inputs to feed into the model."
   ]
  },
  {
   "cell_type": "code",
   "execution_count": 19,
   "metadata": {
    "collapsed": false
   },
   "outputs": [],
   "source": [
    "X = df.iloc[:,0:20]"
   ]
  },
  {
   "cell_type": "code",
   "execution_count": 20,
   "metadata": {
    "collapsed": false
   },
   "outputs": [
    {
     "data": {
      "text/html": [
       "<div>\n",
       "<table border=\"1\" class=\"dataframe\">\n",
       "  <thead>\n",
       "    <tr style=\"text-align: right;\">\n",
       "      <th></th>\n",
       "      <th>Loan Amount</th>\n",
       "      <th>Loan Term</th>\n",
       "      <th>Employment Length</th>\n",
       "      <th>Annual Income</th>\n",
       "      <th>Debt To Income Ratio</th>\n",
       "      <th>No. Delinquencies In Last 2 Years</th>\n",
       "      <th>Earliest Credit Line Opened</th>\n",
       "      <th>FICO Credit Score</th>\n",
       "      <th>No. Inquiries In Last 6 Months</th>\n",
       "      <th>Months Since Last Delinquency</th>\n",
       "      <th>No. Of Credit Lines</th>\n",
       "      <th>No. Adverse Public Records</th>\n",
       "      <th>Total Credit Balance</th>\n",
       "      <th>Use Of Credit Line</th>\n",
       "      <th>Total Number Of Credit Lines</th>\n",
       "      <th>Loan Application Description</th>\n",
       "      <th>No. Of Public Record Bankruptcies</th>\n",
       "    </tr>\n",
       "  </thead>\n",
       "  <tbody>\n",
       "    <tr>\n",
       "      <th>Loan Amount</th>\n",
       "      <td>1.000000</td>\n",
       "      <td>0.346452</td>\n",
       "      <td>0.161860</td>\n",
       "      <td>0.419888</td>\n",
       "      <td>0.067194</td>\n",
       "      <td>-0.017880</td>\n",
       "      <td>-0.167322</td>\n",
       "      <td>0.072942</td>\n",
       "      <td>0.031353</td>\n",
       "      <td>-0.025358</td>\n",
       "      <td>0.186612</td>\n",
       "      <td>-0.046217</td>\n",
       "      <td>0.339781</td>\n",
       "      <td>0.076259</td>\n",
       "      <td>0.244136</td>\n",
       "      <td>0.070384</td>\n",
       "      <td>-0.032200</td>\n",
       "    </tr>\n",
       "    <tr>\n",
       "      <th>Loan Term</th>\n",
       "      <td>0.346452</td>\n",
       "      <td>1.000000</td>\n",
       "      <td>0.103957</td>\n",
       "      <td>0.075849</td>\n",
       "      <td>0.068526</td>\n",
       "      <td>0.005215</td>\n",
       "      <td>-0.029985</td>\n",
       "      <td>-0.032447</td>\n",
       "      <td>0.055512</td>\n",
       "      <td>0.013403</td>\n",
       "      <td>0.051025</td>\n",
       "      <td>0.004529</td>\n",
       "      <td>0.080432</td>\n",
       "      <td>0.061898</td>\n",
       "      <td>0.101254</td>\n",
       "      <td>-0.023960</td>\n",
       "      <td>0.010151</td>\n",
       "    </tr>\n",
       "    <tr>\n",
       "      <th>Employment Length</th>\n",
       "      <td>0.161860</td>\n",
       "      <td>0.103957</td>\n",
       "      <td>1.000000</td>\n",
       "      <td>0.178690</td>\n",
       "      <td>0.057979</td>\n",
       "      <td>0.022638</td>\n",
       "      <td>-0.241920</td>\n",
       "      <td>0.043945</td>\n",
       "      <td>0.015997</td>\n",
       "      <td>0.041946</td>\n",
       "      <td>0.090355</td>\n",
       "      <td>0.050447</td>\n",
       "      <td>0.168096</td>\n",
       "      <td>0.039686</td>\n",
       "      <td>0.203741</td>\n",
       "      <td>-0.099715</td>\n",
       "      <td>0.046222</td>\n",
       "    </tr>\n",
       "    <tr>\n",
       "      <th>Annual Income</th>\n",
       "      <td>0.419888</td>\n",
       "      <td>0.075849</td>\n",
       "      <td>0.178690</td>\n",
       "      <td>1.000000</td>\n",
       "      <td>-0.148257</td>\n",
       "      <td>0.031433</td>\n",
       "      <td>-0.279359</td>\n",
       "      <td>0.085643</td>\n",
       "      <td>0.047100</td>\n",
       "      <td>0.023368</td>\n",
       "      <td>0.238596</td>\n",
       "      <td>-0.018320</td>\n",
       "      <td>0.406711</td>\n",
       "      <td>0.027764</td>\n",
       "      <td>0.356283</td>\n",
       "      <td>-0.000482</td>\n",
       "      <td>-0.017091</td>\n",
       "    </tr>\n",
       "    <tr>\n",
       "      <th>Debt To Income Ratio</th>\n",
       "      <td>0.067194</td>\n",
       "      <td>0.068526</td>\n",
       "      <td>0.057979</td>\n",
       "      <td>-0.148257</td>\n",
       "      <td>1.000000</td>\n",
       "      <td>-0.015970</td>\n",
       "      <td>-0.019155</td>\n",
       "      <td>-0.240232</td>\n",
       "      <td>0.002697</td>\n",
       "      <td>-0.001325</td>\n",
       "      <td>0.298953</td>\n",
       "      <td>0.001404</td>\n",
       "      <td>0.284208</td>\n",
       "      <td>0.307751</td>\n",
       "      <td>0.225860</td>\n",
       "      <td>-0.022487</td>\n",
       "      <td>0.013626</td>\n",
       "    </tr>\n",
       "    <tr>\n",
       "      <th>No. Delinquencies In Last 2 Years</th>\n",
       "      <td>-0.017880</td>\n",
       "      <td>0.005215</td>\n",
       "      <td>0.022638</td>\n",
       "      <td>0.031433</td>\n",
       "      <td>-0.015970</td>\n",
       "      <td>1.000000</td>\n",
       "      <td>-0.072535</td>\n",
       "      <td>-0.210865</td>\n",
       "      <td>-0.003412</td>\n",
       "      <td>0.004255</td>\n",
       "      <td>0.020349</td>\n",
       "      <td>0.009259</td>\n",
       "      <td>-0.058066</td>\n",
       "      <td>-0.030804</td>\n",
       "      <td>0.077041</td>\n",
       "      <td>-0.027236</td>\n",
       "      <td>0.005885</td>\n",
       "    </tr>\n",
       "    <tr>\n",
       "      <th>Earliest Credit Line Opened</th>\n",
       "      <td>-0.167322</td>\n",
       "      <td>-0.029985</td>\n",
       "      <td>-0.241920</td>\n",
       "      <td>-0.279359</td>\n",
       "      <td>-0.019155</td>\n",
       "      <td>-0.072535</td>\n",
       "      <td>1.000000</td>\n",
       "      <td>-0.236655</td>\n",
       "      <td>-0.015528</td>\n",
       "      <td>-0.091577</td>\n",
       "      <td>-0.204107</td>\n",
       "      <td>-0.060743</td>\n",
       "      <td>-0.281722</td>\n",
       "      <td>0.041633</td>\n",
       "      <td>-0.378607</td>\n",
       "      <td>0.001181</td>\n",
       "      <td>-0.069481</td>\n",
       "    </tr>\n",
       "    <tr>\n",
       "      <th>FICO Credit Score</th>\n",
       "      <td>0.072942</td>\n",
       "      <td>-0.032447</td>\n",
       "      <td>0.043945</td>\n",
       "      <td>0.085643</td>\n",
       "      <td>-0.240232</td>\n",
       "      <td>-0.210865</td>\n",
       "      <td>-0.236655</td>\n",
       "      <td>1.000000</td>\n",
       "      <td>-0.017319</td>\n",
       "      <td>-0.267358</td>\n",
       "      <td>-0.049121</td>\n",
       "      <td>-0.144739</td>\n",
       "      <td>-0.099236</td>\n",
       "      <td>-0.578388</td>\n",
       "      <td>0.088577</td>\n",
       "      <td>0.012036</td>\n",
       "      <td>-0.120587</td>\n",
       "    </tr>\n",
       "    <tr>\n",
       "      <th>No. Inquiries In Last 6 Months</th>\n",
       "      <td>0.031353</td>\n",
       "      <td>0.055512</td>\n",
       "      <td>0.015997</td>\n",
       "      <td>0.047100</td>\n",
       "      <td>0.002697</td>\n",
       "      <td>-0.003412</td>\n",
       "      <td>-0.015528</td>\n",
       "      <td>-0.017319</td>\n",
       "      <td>1.000000</td>\n",
       "      <td>0.012117</td>\n",
       "      <td>0.097759</td>\n",
       "      <td>0.020288</td>\n",
       "      <td>-0.018807</td>\n",
       "      <td>-0.084095</td>\n",
       "      <td>0.123051</td>\n",
       "      <td>-0.007543</td>\n",
       "      <td>0.013602</td>\n",
       "    </tr>\n",
       "    <tr>\n",
       "      <th>Months Since Last Delinquency</th>\n",
       "      <td>-0.025358</td>\n",
       "      <td>0.013403</td>\n",
       "      <td>0.041946</td>\n",
       "      <td>0.023368</td>\n",
       "      <td>-0.001325</td>\n",
       "      <td>0.004255</td>\n",
       "      <td>-0.091577</td>\n",
       "      <td>-0.267358</td>\n",
       "      <td>0.012117</td>\n",
       "      <td>1.000000</td>\n",
       "      <td>0.042967</td>\n",
       "      <td>0.053624</td>\n",
       "      <td>-0.062771</td>\n",
       "      <td>0.044722</td>\n",
       "      <td>0.095349</td>\n",
       "      <td>-0.018585</td>\n",
       "      <td>0.023249</td>\n",
       "    </tr>\n",
       "    <tr>\n",
       "      <th>No. Of Credit Lines</th>\n",
       "      <td>0.186612</td>\n",
       "      <td>0.051025</td>\n",
       "      <td>0.090355</td>\n",
       "      <td>0.238596</td>\n",
       "      <td>0.298953</td>\n",
       "      <td>0.020349</td>\n",
       "      <td>-0.204107</td>\n",
       "      <td>-0.049121</td>\n",
       "      <td>0.097759</td>\n",
       "      <td>0.042967</td>\n",
       "      <td>1.000000</td>\n",
       "      <td>-0.004446</td>\n",
       "      <td>0.324961</td>\n",
       "      <td>-0.065496</td>\n",
       "      <td>0.677348</td>\n",
       "      <td>-0.011878</td>\n",
       "      <td>0.003752</td>\n",
       "    </tr>\n",
       "    <tr>\n",
       "      <th>No. Adverse Public Records</th>\n",
       "      <td>-0.046217</td>\n",
       "      <td>0.004529</td>\n",
       "      <td>0.050447</td>\n",
       "      <td>-0.018320</td>\n",
       "      <td>0.001404</td>\n",
       "      <td>0.009259</td>\n",
       "      <td>-0.060743</td>\n",
       "      <td>-0.144739</td>\n",
       "      <td>0.020288</td>\n",
       "      <td>0.053624</td>\n",
       "      <td>-0.004446</td>\n",
       "      <td>1.000000</td>\n",
       "      <td>-0.057907</td>\n",
       "      <td>0.058456</td>\n",
       "      <td>-0.020006</td>\n",
       "      <td>0.002098</td>\n",
       "      <td>0.834791</td>\n",
       "    </tr>\n",
       "    <tr>\n",
       "      <th>Total Credit Balance</th>\n",
       "      <td>0.339781</td>\n",
       "      <td>0.080432</td>\n",
       "      <td>0.168096</td>\n",
       "      <td>0.406711</td>\n",
       "      <td>0.284208</td>\n",
       "      <td>-0.058066</td>\n",
       "      <td>-0.281722</td>\n",
       "      <td>-0.099236</td>\n",
       "      <td>-0.018807</td>\n",
       "      <td>-0.062771</td>\n",
       "      <td>0.324961</td>\n",
       "      <td>-0.057907</td>\n",
       "      <td>1.000000</td>\n",
       "      <td>0.392530</td>\n",
       "      <td>0.336589</td>\n",
       "      <td>0.015081</td>\n",
       "      <td>-0.043516</td>\n",
       "    </tr>\n",
       "    <tr>\n",
       "      <th>Use Of Credit Line</th>\n",
       "      <td>0.076259</td>\n",
       "      <td>0.061898</td>\n",
       "      <td>0.039686</td>\n",
       "      <td>0.027764</td>\n",
       "      <td>0.307751</td>\n",
       "      <td>-0.030804</td>\n",
       "      <td>0.041633</td>\n",
       "      <td>-0.578388</td>\n",
       "      <td>-0.084095</td>\n",
       "      <td>0.044722</td>\n",
       "      <td>-0.065496</td>\n",
       "      <td>0.058456</td>\n",
       "      <td>0.392530</td>\n",
       "      <td>1.000000</td>\n",
       "      <td>-0.053689</td>\n",
       "      <td>0.005715</td>\n",
       "      <td>0.058188</td>\n",
       "    </tr>\n",
       "    <tr>\n",
       "      <th>Total Number Of Credit Lines</th>\n",
       "      <td>0.244136</td>\n",
       "      <td>0.101254</td>\n",
       "      <td>0.203741</td>\n",
       "      <td>0.356283</td>\n",
       "      <td>0.225860</td>\n",
       "      <td>0.077041</td>\n",
       "      <td>-0.378607</td>\n",
       "      <td>0.088577</td>\n",
       "      <td>0.123051</td>\n",
       "      <td>0.095349</td>\n",
       "      <td>0.677348</td>\n",
       "      <td>-0.020006</td>\n",
       "      <td>0.336589</td>\n",
       "      <td>-0.053689</td>\n",
       "      <td>1.000000</td>\n",
       "      <td>-0.035871</td>\n",
       "      <td>-0.004936</td>\n",
       "    </tr>\n",
       "    <tr>\n",
       "      <th>Loan Application Description</th>\n",
       "      <td>0.070384</td>\n",
       "      <td>-0.023960</td>\n",
       "      <td>-0.099715</td>\n",
       "      <td>-0.000482</td>\n",
       "      <td>-0.022487</td>\n",
       "      <td>-0.027236</td>\n",
       "      <td>0.001181</td>\n",
       "      <td>0.012036</td>\n",
       "      <td>-0.007543</td>\n",
       "      <td>-0.018585</td>\n",
       "      <td>-0.011878</td>\n",
       "      <td>0.002098</td>\n",
       "      <td>0.015081</td>\n",
       "      <td>0.005715</td>\n",
       "      <td>-0.035871</td>\n",
       "      <td>1.000000</td>\n",
       "      <td>0.005798</td>\n",
       "    </tr>\n",
       "    <tr>\n",
       "      <th>No. Of Public Record Bankruptcies</th>\n",
       "      <td>-0.032200</td>\n",
       "      <td>0.010151</td>\n",
       "      <td>0.046222</td>\n",
       "      <td>-0.017091</td>\n",
       "      <td>0.013626</td>\n",
       "      <td>0.005885</td>\n",
       "      <td>-0.069481</td>\n",
       "      <td>-0.120587</td>\n",
       "      <td>0.013602</td>\n",
       "      <td>0.023249</td>\n",
       "      <td>0.003752</td>\n",
       "      <td>0.834791</td>\n",
       "      <td>-0.043516</td>\n",
       "      <td>0.058188</td>\n",
       "      <td>-0.004936</td>\n",
       "      <td>0.005798</td>\n",
       "      <td>1.000000</td>\n",
       "    </tr>\n",
       "  </tbody>\n",
       "</table>\n",
       "</div>"
      ],
      "text/plain": [
       "                                   Loan Amount  Loan Term  Employment Length  \\\n",
       "Loan Amount                           1.000000   0.346452           0.161860   \n",
       "Loan Term                             0.346452   1.000000           0.103957   \n",
       "Employment Length                     0.161860   0.103957           1.000000   \n",
       "Annual Income                         0.419888   0.075849           0.178690   \n",
       "Debt To Income Ratio                  0.067194   0.068526           0.057979   \n",
       "No. Delinquencies In Last 2 Years    -0.017880   0.005215           0.022638   \n",
       "Earliest Credit Line Opened          -0.167322  -0.029985          -0.241920   \n",
       "FICO Credit Score                     0.072942  -0.032447           0.043945   \n",
       "No. Inquiries In Last 6 Months        0.031353   0.055512           0.015997   \n",
       "Months Since Last Delinquency        -0.025358   0.013403           0.041946   \n",
       "No. Of Credit Lines                   0.186612   0.051025           0.090355   \n",
       "No. Adverse Public Records           -0.046217   0.004529           0.050447   \n",
       "Total Credit Balance                  0.339781   0.080432           0.168096   \n",
       "Use Of Credit Line                    0.076259   0.061898           0.039686   \n",
       "Total Number Of Credit Lines          0.244136   0.101254           0.203741   \n",
       "Loan Application Description          0.070384  -0.023960          -0.099715   \n",
       "No. Of Public Record Bankruptcies    -0.032200   0.010151           0.046222   \n",
       "\n",
       "                                   Annual Income  Debt To Income Ratio  \\\n",
       "Loan Amount                             0.419888              0.067194   \n",
       "Loan Term                               0.075849              0.068526   \n",
       "Employment Length                       0.178690              0.057979   \n",
       "Annual Income                           1.000000             -0.148257   \n",
       "Debt To Income Ratio                   -0.148257              1.000000   \n",
       "No. Delinquencies In Last 2 Years       0.031433             -0.015970   \n",
       "Earliest Credit Line Opened            -0.279359             -0.019155   \n",
       "FICO Credit Score                       0.085643             -0.240232   \n",
       "No. Inquiries In Last 6 Months          0.047100              0.002697   \n",
       "Months Since Last Delinquency           0.023368             -0.001325   \n",
       "No. Of Credit Lines                     0.238596              0.298953   \n",
       "No. Adverse Public Records             -0.018320              0.001404   \n",
       "Total Credit Balance                    0.406711              0.284208   \n",
       "Use Of Credit Line                      0.027764              0.307751   \n",
       "Total Number Of Credit Lines            0.356283              0.225860   \n",
       "Loan Application Description           -0.000482             -0.022487   \n",
       "No. Of Public Record Bankruptcies      -0.017091              0.013626   \n",
       "\n",
       "                                   No. Delinquencies In Last 2 Years  \\\n",
       "Loan Amount                                                -0.017880   \n",
       "Loan Term                                                   0.005215   \n",
       "Employment Length                                           0.022638   \n",
       "Annual Income                                               0.031433   \n",
       "Debt To Income Ratio                                       -0.015970   \n",
       "No. Delinquencies In Last 2 Years                           1.000000   \n",
       "Earliest Credit Line Opened                                -0.072535   \n",
       "FICO Credit Score                                          -0.210865   \n",
       "No. Inquiries In Last 6 Months                             -0.003412   \n",
       "Months Since Last Delinquency                               0.004255   \n",
       "No. Of Credit Lines                                         0.020349   \n",
       "No. Adverse Public Records                                  0.009259   \n",
       "Total Credit Balance                                       -0.058066   \n",
       "Use Of Credit Line                                         -0.030804   \n",
       "Total Number Of Credit Lines                                0.077041   \n",
       "Loan Application Description                               -0.027236   \n",
       "No. Of Public Record Bankruptcies                           0.005885   \n",
       "\n",
       "                                   Earliest Credit Line Opened  \\\n",
       "Loan Amount                                          -0.167322   \n",
       "Loan Term                                            -0.029985   \n",
       "Employment Length                                    -0.241920   \n",
       "Annual Income                                        -0.279359   \n",
       "Debt To Income Ratio                                 -0.019155   \n",
       "No. Delinquencies In Last 2 Years                    -0.072535   \n",
       "Earliest Credit Line Opened                           1.000000   \n",
       "FICO Credit Score                                    -0.236655   \n",
       "No. Inquiries In Last 6 Months                       -0.015528   \n",
       "Months Since Last Delinquency                        -0.091577   \n",
       "No. Of Credit Lines                                  -0.204107   \n",
       "No. Adverse Public Records                           -0.060743   \n",
       "Total Credit Balance                                 -0.281722   \n",
       "Use Of Credit Line                                    0.041633   \n",
       "Total Number Of Credit Lines                         -0.378607   \n",
       "Loan Application Description                          0.001181   \n",
       "No. Of Public Record Bankruptcies                    -0.069481   \n",
       "\n",
       "                                   FICO Credit Score  \\\n",
       "Loan Amount                                 0.072942   \n",
       "Loan Term                                  -0.032447   \n",
       "Employment Length                           0.043945   \n",
       "Annual Income                               0.085643   \n",
       "Debt To Income Ratio                       -0.240232   \n",
       "No. Delinquencies In Last 2 Years          -0.210865   \n",
       "Earliest Credit Line Opened                -0.236655   \n",
       "FICO Credit Score                           1.000000   \n",
       "No. Inquiries In Last 6 Months             -0.017319   \n",
       "Months Since Last Delinquency              -0.267358   \n",
       "No. Of Credit Lines                        -0.049121   \n",
       "No. Adverse Public Records                 -0.144739   \n",
       "Total Credit Balance                       -0.099236   \n",
       "Use Of Credit Line                         -0.578388   \n",
       "Total Number Of Credit Lines                0.088577   \n",
       "Loan Application Description                0.012036   \n",
       "No. Of Public Record Bankruptcies          -0.120587   \n",
       "\n",
       "                                   No. Inquiries In Last 6 Months  \\\n",
       "Loan Amount                                              0.031353   \n",
       "Loan Term                                                0.055512   \n",
       "Employment Length                                        0.015997   \n",
       "Annual Income                                            0.047100   \n",
       "Debt To Income Ratio                                     0.002697   \n",
       "No. Delinquencies In Last 2 Years                       -0.003412   \n",
       "Earliest Credit Line Opened                             -0.015528   \n",
       "FICO Credit Score                                       -0.017319   \n",
       "No. Inquiries In Last 6 Months                           1.000000   \n",
       "Months Since Last Delinquency                            0.012117   \n",
       "No. Of Credit Lines                                      0.097759   \n",
       "No. Adverse Public Records                               0.020288   \n",
       "Total Credit Balance                                    -0.018807   \n",
       "Use Of Credit Line                                      -0.084095   \n",
       "Total Number Of Credit Lines                             0.123051   \n",
       "Loan Application Description                            -0.007543   \n",
       "No. Of Public Record Bankruptcies                        0.013602   \n",
       "\n",
       "                                   Months Since Last Delinquency  \\\n",
       "Loan Amount                                            -0.025358   \n",
       "Loan Term                                               0.013403   \n",
       "Employment Length                                       0.041946   \n",
       "Annual Income                                           0.023368   \n",
       "Debt To Income Ratio                                   -0.001325   \n",
       "No. Delinquencies In Last 2 Years                       0.004255   \n",
       "Earliest Credit Line Opened                            -0.091577   \n",
       "FICO Credit Score                                      -0.267358   \n",
       "No. Inquiries In Last 6 Months                          0.012117   \n",
       "Months Since Last Delinquency                           1.000000   \n",
       "No. Of Credit Lines                                     0.042967   \n",
       "No. Adverse Public Records                              0.053624   \n",
       "Total Credit Balance                                   -0.062771   \n",
       "Use Of Credit Line                                      0.044722   \n",
       "Total Number Of Credit Lines                            0.095349   \n",
       "Loan Application Description                           -0.018585   \n",
       "No. Of Public Record Bankruptcies                       0.023249   \n",
       "\n",
       "                                   No. Of Credit Lines  \\\n",
       "Loan Amount                                   0.186612   \n",
       "Loan Term                                     0.051025   \n",
       "Employment Length                             0.090355   \n",
       "Annual Income                                 0.238596   \n",
       "Debt To Income Ratio                          0.298953   \n",
       "No. Delinquencies In Last 2 Years             0.020349   \n",
       "Earliest Credit Line Opened                  -0.204107   \n",
       "FICO Credit Score                            -0.049121   \n",
       "No. Inquiries In Last 6 Months                0.097759   \n",
       "Months Since Last Delinquency                 0.042967   \n",
       "No. Of Credit Lines                           1.000000   \n",
       "No. Adverse Public Records                   -0.004446   \n",
       "Total Credit Balance                          0.324961   \n",
       "Use Of Credit Line                           -0.065496   \n",
       "Total Number Of Credit Lines                  0.677348   \n",
       "Loan Application Description                 -0.011878   \n",
       "No. Of Public Record Bankruptcies             0.003752   \n",
       "\n",
       "                                   No. Adverse Public Records  \\\n",
       "Loan Amount                                         -0.046217   \n",
       "Loan Term                                            0.004529   \n",
       "Employment Length                                    0.050447   \n",
       "Annual Income                                       -0.018320   \n",
       "Debt To Income Ratio                                 0.001404   \n",
       "No. Delinquencies In Last 2 Years                    0.009259   \n",
       "Earliest Credit Line Opened                         -0.060743   \n",
       "FICO Credit Score                                   -0.144739   \n",
       "No. Inquiries In Last 6 Months                       0.020288   \n",
       "Months Since Last Delinquency                        0.053624   \n",
       "No. Of Credit Lines                                 -0.004446   \n",
       "No. Adverse Public Records                           1.000000   \n",
       "Total Credit Balance                                -0.057907   \n",
       "Use Of Credit Line                                   0.058456   \n",
       "Total Number Of Credit Lines                        -0.020006   \n",
       "Loan Application Description                         0.002098   \n",
       "No. Of Public Record Bankruptcies                    0.834791   \n",
       "\n",
       "                                   Total Credit Balance  Use Of Credit Line  \\\n",
       "Loan Amount                                    0.339781            0.076259   \n",
       "Loan Term                                      0.080432            0.061898   \n",
       "Employment Length                              0.168096            0.039686   \n",
       "Annual Income                                  0.406711            0.027764   \n",
       "Debt To Income Ratio                           0.284208            0.307751   \n",
       "No. Delinquencies In Last 2 Years             -0.058066           -0.030804   \n",
       "Earliest Credit Line Opened                   -0.281722            0.041633   \n",
       "FICO Credit Score                             -0.099236           -0.578388   \n",
       "No. Inquiries In Last 6 Months                -0.018807           -0.084095   \n",
       "Months Since Last Delinquency                 -0.062771            0.044722   \n",
       "No. Of Credit Lines                            0.324961           -0.065496   \n",
       "No. Adverse Public Records                    -0.057907            0.058456   \n",
       "Total Credit Balance                           1.000000            0.392530   \n",
       "Use Of Credit Line                             0.392530            1.000000   \n",
       "Total Number Of Credit Lines                   0.336589           -0.053689   \n",
       "Loan Application Description                   0.015081            0.005715   \n",
       "No. Of Public Record Bankruptcies             -0.043516            0.058188   \n",
       "\n",
       "                                   Total Number Of Credit Lines  \\\n",
       "Loan Amount                                            0.244136   \n",
       "Loan Term                                              0.101254   \n",
       "Employment Length                                      0.203741   \n",
       "Annual Income                                          0.356283   \n",
       "Debt To Income Ratio                                   0.225860   \n",
       "No. Delinquencies In Last 2 Years                      0.077041   \n",
       "Earliest Credit Line Opened                           -0.378607   \n",
       "FICO Credit Score                                      0.088577   \n",
       "No. Inquiries In Last 6 Months                         0.123051   \n",
       "Months Since Last Delinquency                          0.095349   \n",
       "No. Of Credit Lines                                    0.677348   \n",
       "No. Adverse Public Records                            -0.020006   \n",
       "Total Credit Balance                                   0.336589   \n",
       "Use Of Credit Line                                    -0.053689   \n",
       "Total Number Of Credit Lines                           1.000000   \n",
       "Loan Application Description                          -0.035871   \n",
       "No. Of Public Record Bankruptcies                     -0.004936   \n",
       "\n",
       "                                   Loan Application Description  \\\n",
       "Loan Amount                                            0.070384   \n",
       "Loan Term                                             -0.023960   \n",
       "Employment Length                                     -0.099715   \n",
       "Annual Income                                         -0.000482   \n",
       "Debt To Income Ratio                                  -0.022487   \n",
       "No. Delinquencies In Last 2 Years                     -0.027236   \n",
       "Earliest Credit Line Opened                            0.001181   \n",
       "FICO Credit Score                                      0.012036   \n",
       "No. Inquiries In Last 6 Months                        -0.007543   \n",
       "Months Since Last Delinquency                         -0.018585   \n",
       "No. Of Credit Lines                                   -0.011878   \n",
       "No. Adverse Public Records                             0.002098   \n",
       "Total Credit Balance                                   0.015081   \n",
       "Use Of Credit Line                                     0.005715   \n",
       "Total Number Of Credit Lines                          -0.035871   \n",
       "Loan Application Description                           1.000000   \n",
       "No. Of Public Record Bankruptcies                      0.005798   \n",
       "\n",
       "                                   No. Of Public Record Bankruptcies  \n",
       "Loan Amount                                                -0.032200  \n",
       "Loan Term                                                   0.010151  \n",
       "Employment Length                                           0.046222  \n",
       "Annual Income                                              -0.017091  \n",
       "Debt To Income Ratio                                        0.013626  \n",
       "No. Delinquencies In Last 2 Years                           0.005885  \n",
       "Earliest Credit Line Opened                                -0.069481  \n",
       "FICO Credit Score                                          -0.120587  \n",
       "No. Inquiries In Last 6 Months                              0.013602  \n",
       "Months Since Last Delinquency                               0.023249  \n",
       "No. Of Credit Lines                                         0.003752  \n",
       "No. Adverse Public Records                                  0.834791  \n",
       "Total Credit Balance                                       -0.043516  \n",
       "Use Of Credit Line                                          0.058188  \n",
       "Total Number Of Credit Lines                               -0.004936  \n",
       "Loan Application Description                                0.005798  \n",
       "No. Of Public Record Bankruptcies                           1.000000  "
      ]
     },
     "execution_count": 20,
     "metadata": {},
     "output_type": "execute_result"
    }
   ],
   "source": [
    "X.corr()"
   ]
  },
  {
   "cell_type": "markdown",
   "metadata": {},
   "source": [
    "When compiling features, we wish to eliminate those that are correlated with each other. From the correlation matrix above we see that 'No. Adverse Public Records' and 'No. Of Public Record Bankruptcies' have a high correlation so let's drop one of them from the feature matrix X."
   ]
  },
  {
   "cell_type": "code",
   "execution_count": 21,
   "metadata": {
    "collapsed": false
   },
   "outputs": [],
   "source": [
    "columns_to_drop = ['No. Adverse Public Records']\n",
    "X = X.drop(columns_to_drop, axis = 1)"
   ]
  },
  {
   "cell_type": "markdown",
   "metadata": {},
   "source": [
    "Our data contains categorical variables. In essence these are qualitative inputs which the computer struggles to interpret in a numerical framework. They need to be arranged into binary form and populated into a matrix to help the machine process the input factors.\n",
    "\n",
    "'Home Ownership' has four values - Rent, Mortgage, Own or Other. We can use dummy variables to create four columns that effectively turn these descriptions into binary signals. We also see categorical variables for 'Loan Purpose' and 'Address State'."
   ]
  },
  {
   "cell_type": "code",
   "execution_count": 22,
   "metadata": {
    "collapsed": true
   },
   "outputs": [],
   "source": [
    "X = pd.get_dummies(X)"
   ]
  },
  {
   "cell_type": "markdown",
   "metadata": {},
   "source": [
    "Next we need to establish our baseline figure. This is the level of accuracy that we would achieve if we gave credit to everybody. In other words it is the percentage we could get without any information."
   ]
  },
  {
   "cell_type": "code",
   "execution_count": 23,
   "metadata": {
    "collapsed": false
   },
   "outputs": [],
   "source": [
    "y = df['Class']"
   ]
  },
  {
   "cell_type": "code",
   "execution_count": 24,
   "metadata": {
    "collapsed": false
   },
   "outputs": [
    {
     "data": {
      "text/plain": [
       "1    20243\n",
       "0     4481\n",
       "Name: Class, dtype: int64"
      ]
     },
     "execution_count": 24,
     "metadata": {},
     "output_type": "execute_result"
    }
   ],
   "source": [
    "y.value_counts()"
   ]
  },
  {
   "cell_type": "code",
   "execution_count": 25,
   "metadata": {
    "collapsed": false
   },
   "outputs": [
    {
     "name": "stdout",
     "output_type": "stream",
     "text": [
      "Baseline is 0.818759100469\n"
     ]
    }
   ],
   "source": [
    "baseline = y.mean()\n",
    "if baseline >= 0.5:\n",
    "    print 'Baseline is', baseline\n",
    "else:\n",
    "    print 'Baseline is', 1 - baseline"
   ]
  },
  {
   "cell_type": "markdown",
   "metadata": {},
   "source": [
    "When running a machine learning technique we split the data into a train/test split. The training set is used to fit the model. After that we have the testing phase where we see how the model performs with the data that has been 'held out' up until this point."
   ]
  },
  {
   "cell_type": "code",
   "execution_count": 26,
   "metadata": {
    "collapsed": false
   },
   "outputs": [],
   "source": [
    "X_train, X_test, y_train, y_test = train_test_split(X, y, test_size = 0.3, stratify = y, random_state = 42)"
   ]
  },
  {
   "cell_type": "markdown",
   "metadata": {},
   "source": [
    "### Logistic Regression"
   ]
  },
  {
   "cell_type": "markdown",
   "metadata": {},
   "source": [
    "Now we are ready to run the modelling. We start by initiating a model, fitting the training data to that model and then using the model to make predictions. It is these predictions that we will assess against the test data."
   ]
  },
  {
   "cell_type": "code",
   "execution_count": 27,
   "metadata": {
    "collapsed": false
   },
   "outputs": [],
   "source": [
    "lr = LogisticRegression()\n",
    "lr.fit(X_train, y_train)\n",
    "y_pred = lr.predict(X_test)\n",
    "\n",
    "# Default parameters C = 1.0, penalty = l2, class_weight = None "
   ]
  },
  {
   "cell_type": "code",
   "execution_count": 28,
   "metadata": {
    "collapsed": false
   },
   "outputs": [
    {
     "data": {
      "text/html": [
       "<div>\n",
       "<table border=\"1\" class=\"dataframe\">\n",
       "  <thead>\n",
       "    <tr style=\"text-align: right;\">\n",
       "      <th></th>\n",
       "      <th>Predict 0</th>\n",
       "      <th>Predict 1</th>\n",
       "    </tr>\n",
       "  </thead>\n",
       "  <tbody>\n",
       "    <tr>\n",
       "      <th>Actual 0</th>\n",
       "      <td>35</td>\n",
       "      <td>1309</td>\n",
       "    </tr>\n",
       "    <tr>\n",
       "      <th>Actual 1</th>\n",
       "      <td>29</td>\n",
       "      <td>6045</td>\n",
       "    </tr>\n",
       "  </tbody>\n",
       "</table>\n",
       "</div>"
      ],
      "text/plain": [
       "          Predict 0  Predict 1\n",
       "Actual 0         35       1309\n",
       "Actual 1         29       6045"
      ]
     },
     "execution_count": 28,
     "metadata": {},
     "output_type": "execute_result"
    }
   ],
   "source": [
    "actual_rows = ['Actual 0', 'Actual 1']\n",
    "predicted_cols = ['Predict 0', 'Predict 1']\n",
    "pd.DataFrame(confusion_matrix(y_test, y_pred), index = actual_rows, columns = predicted_cols)"
   ]
  },
  {
   "cell_type": "markdown",
   "metadata": {},
   "source": [
    "Here we have the **Confusion Matrix**. There are four possible outcomes.\n",
    "\n",
    "* True Positive: We predicted a successful outcome and this is what happened.\n",
    "* False Positive: We predicted a successful outcome but this didn't happen.\n",
    "* True Negative: We predicted an unsuccessful outcome and this is what happened.\n",
    "* False Negative: We predicted an unsuccessful outcome score but this didn't happen."
   ]
  },
  {
   "cell_type": "markdown",
   "metadata": {},
   "source": [
    "The accuracy score represents the sum of correct outcomes divided by the sum of all the values in the Confusion Matrix. It tells us how often the model is correct."
   ]
  },
  {
   "cell_type": "markdown",
   "metadata": {},
   "source": [
    "$$Accuracy = \\frac{TP+TN}{TP+TN+FP+FN}$$"
   ]
  },
  {
   "cell_type": "code",
   "execution_count": 29,
   "metadata": {
    "collapsed": false
   },
   "outputs": [
    {
     "data": {
      "text/plain": [
       "0.81962793205715823"
      ]
     },
     "execution_count": 29,
     "metadata": {},
     "output_type": "execute_result"
    }
   ],
   "source": [
    "accuracy_score(y_test, y_pred)"
   ]
  },
  {
   "cell_type": "markdown",
   "metadata": {},
   "source": [
    "Below we have a *Classification Report* where we look at *Precision* and *Recall* scores. Both have positive and negative versions, in contrast to accuracy of which there is only one form. Precision and Recall are useful when we wish to delve a bit deeper into how the model performs."
   ]
  },
  {
   "cell_type": "code",
   "execution_count": 30,
   "metadata": {
    "collapsed": false
   },
   "outputs": [
    {
     "name": "stdout",
     "output_type": "stream",
     "text": [
      "             precision    recall  f1-score   support\n",
      "\n",
      "          0       0.55      0.03      0.05      1344\n",
      "          1       0.82      1.00      0.90      6074\n",
      "\n",
      "avg / total       0.77      0.82      0.75      7418\n",
      "\n"
     ]
    }
   ],
   "source": [
    "print classification_report(y_test, y_pred)"
   ]
  },
  {
   "cell_type": "markdown",
   "metadata": {},
   "source": [
    "Metric | Description\n",
    "--- | ---\n",
    "Precision + | Of the all the positive predictions, what proportion actually turned out to be positive.\n",
    "Precision - | Of the all the negative predictions, what proportion actually turned out to be negative.\n",
    "Recall + | Of the all the positive results, what proportion had been predicted positive.\n",
    "Recall - | Of the all the negative results, what proportion had been predicted negative."
   ]
  },
  {
   "cell_type": "markdown",
   "metadata": {},
   "source": [
    "These values can be computed using the Confusion Matrix and following formulae."
   ]
  },
  {
   "cell_type": "markdown",
   "metadata": {},
   "source": [
    "$$Precision_{+} = \\frac{TP}{TP+FP}$$"
   ]
  },
  {
   "cell_type": "markdown",
   "metadata": {},
   "source": [
    "$$Precision_{-} = \\frac{TN}{TN+FN}$$"
   ]
  },
  {
   "cell_type": "markdown",
   "metadata": {},
   "source": [
    "In the report above we see Precision- has a score of 0.55 with Precision+ having a score of 0.82. This means that of the forecasts that were negative (customer not repaying their loan) only 55% turned out to do so. Of the customers forcast to repay the loan, 82% did so. This is quite encouraging."
   ]
  },
  {
   "cell_type": "markdown",
   "metadata": {},
   "source": [
    "$$Recall_{+} = \\frac{TP}{TP+FN}$$"
   ]
  },
  {
   "cell_type": "markdown",
   "metadata": {},
   "source": [
    "$$Recall_{-} = \\frac{TN}{TN+FP}$$"
   ]
  },
  {
   "cell_type": "markdown",
   "metadata": {},
   "source": [
    "The Recall- score of 0.03 suggests that of the customers who defaulted in their loan, only 3% had been forecast to do so. Recall+ of 1.00 tells us that nearly all the customers who repaid had been predicted to do so. This disparity is concerning and is often seen for datasets with large class imbalances."
   ]
  },
  {
   "cell_type": "code",
   "execution_count": 31,
   "metadata": {
    "collapsed": false
   },
   "outputs": [],
   "source": [
    "# I'm going to draw a couple of ROC Curves in this exercise so why not write a function to avoid duplication of code.\n",
    "def print_roc_curve(model):    \n",
    "    # Get predictions\n",
    "    y_pred = model.decision_function(X_test)\n",
    "    # Get rates\n",
    "    fpr, tpr, thr = roc_curve(y_test, y_pred)\n",
    "    roc_auc = auc(fpr, tpr)\n",
    "    # Plot the chart\n",
    "    plt.figure(figsize=[6,4])\n",
    "    plt.plot(fpr, tpr, label = 'ROC curve (area = %0.2f)' % roc_auc, linewidth = 4)\n",
    "    plt.plot([0, 1], [0, 1], 'k--', linewidth = 2)\n",
    "    plt.xlim([0.0, 1.0])\n",
    "    plt.ylim([0.0, 1.0])\n",
    "    plt.xlabel('False Positive Rate (1-Specificity)', fontsize = 10)\n",
    "    plt.ylabel('True Positive Rate (Sensitivity)', fontsize = 10)\n",
    "    plt.title('ROC curve', fontsize = 12)\n",
    "    plt.legend(loc = \"lower right\")\n",
    "    plt.show()"
   ]
  },
  {
   "cell_type": "code",
   "execution_count": 32,
   "metadata": {
    "collapsed": false
   },
   "outputs": [
    {
     "data": {
      "image/png": "[encoded data removed]",
      "text/plain": [
       "<matplotlib.figure.Figure at 0x117078310>"
      ]
     },
     "metadata": {},
     "output_type": "display_data"
    }
   ],
   "source": [
    "print_roc_curve(lr)"
   ]
  },
  {
   "cell_type": "markdown",
   "metadata": {},
   "source": [
    "The ROC curve compares the True Positive Rate (TPR) against the False Positive Rate (FPR). The TPR is known as the Sensitivity, or also the Recall Positive which we know from before is TP/(TP+FN). That is, of all the results that were actually positive, what proportion had been predicted to be so? The FPR is defined as 1-Specificity, with Specificity also being the Recall Negative, which we know is TN/(TN+FP). Thus the ROC curve is unaffected by the distribution of class labels since it is only comparing the correct versus incorrect label assignments. The curve is generated by varying a threshold across a range of values and then seeing how the TPR and FPR compare.\n",
    "\n",
    "While terms such as True Positive Rate and Sensitivity may not be that intuitive, the nature of the graph is quite easy to interpret. We seek to maximise the Area Under the Curve (AUC), and the closer this value is to one the better the classifier is. We look to obtain a line (the solid line above) that will be close to the top left corner of the chart - this will help maximise the AUC. Random guessing the classes would lead to a profile depicted by the dotted line which gives an AUC of 0.5."
   ]
  },
  {
   "cell_type": "markdown",
   "metadata": {},
   "source": [
    "### Tuning"
   ]
  },
  {
   "cell_type": "markdown",
   "metadata": {},
   "source": [
    "When creating a model we need to be mindful of the Bias-Variance tradeoff. If we overfit a model to training data then the model will pay too much attention to the 'noise' and won't perform well when tested on a new sample. Conversely, if the model is underfitted, it will generalise new data well but won't capture enough of the 'signal' to be a useful tool.\n",
    "\n",
    "To try to get around this we tune the hyperparamters in the model. With Logisitic Regression we have something called Regularisation, which is where we adjust the model strength to try to optimise the model. We have two types - Lasso and Ridge - which can be adjusted with a strength parameter C.\n",
    "\n",
    "Grid Search is a computationally expensive but useful function. It goes through each combination and scores the model. At the end it produces the nugget *best params* which the user can then go and plug into the model."
   ]
  },
  {
   "cell_type": "code",
   "execution_count": 33,
   "metadata": {
    "collapsed": false
   },
   "outputs": [
    {
     "name": "stdout",
     "output_type": "stream",
     "text": [
      "CPU times: user 1min 17s, sys: 1.11 s, total: 1min 18s\n",
      "Wall time: 1min 6s\n"
     ]
    }
   ],
   "source": [
    "%%time\n",
    "penalties = ['l1','l2']\n",
    "C_vals = [0.01, 0.05, 0.1, 1.0, 2.5, 5.0, 10.0, 100.0]\n",
    "\n",
    "gs = GridSearchCV(lr, {'penalty': penalties, 'C': C_vals}, scoring = 'accuracy')\n",
    "gs.fit(X_train, y_train)"
   ]
  },
  {
   "cell_type": "code",
   "execution_count": 34,
   "metadata": {
    "collapsed": false
   },
   "outputs": [
    {
     "data": {
      "text/plain": [
       "{'C': 0.05, 'penalty': 'l1'}"
      ]
     },
     "execution_count": 34,
     "metadata": {},
     "output_type": "execute_result"
    }
   ],
   "source": [
    "gs.best_params_"
   ]
  },
  {
   "cell_type": "code",
   "execution_count": 35,
   "metadata": {
    "collapsed": false
   },
   "outputs": [],
   "source": [
    "# In this cell I have used the parameters from the Grid Search.\n",
    "# I have also set class_weight to 'balanced'.\n",
    "# This uses the values of y to automatically adjust weights inversely proportional to class frequencies.\n",
    "\n",
    "lr_gs = LogisticRegression(penalty = gs.best_params_['penalty'], C = gs.best_params_['C'], class_weight = 'balanced')\n",
    "lr_gs.fit(X_train, y_train)\n",
    "y_pred = lr_gs.predict(X_test)"
   ]
  },
  {
   "cell_type": "code",
   "execution_count": 36,
   "metadata": {
    "collapsed": false
   },
   "outputs": [
    {
     "data": {
      "text/html": [
       "<div>\n",
       "<table border=\"1\" class=\"dataframe\">\n",
       "  <thead>\n",
       "    <tr style=\"text-align: right;\">\n",
       "      <th></th>\n",
       "      <th>Predict 0</th>\n",
       "      <th>Predict 1</th>\n",
       "    </tr>\n",
       "  </thead>\n",
       "  <tbody>\n",
       "    <tr>\n",
       "      <th>Actual 0</th>\n",
       "      <td>872</td>\n",
       "      <td>472</td>\n",
       "    </tr>\n",
       "    <tr>\n",
       "      <th>Actual 1</th>\n",
       "      <td>2024</td>\n",
       "      <td>4050</td>\n",
       "    </tr>\n",
       "  </tbody>\n",
       "</table>\n",
       "</div>"
      ],
      "text/plain": [
       "          Predict 0  Predict 1\n",
       "Actual 0        872        472\n",
       "Actual 1       2024       4050"
      ]
     },
     "execution_count": 36,
     "metadata": {},
     "output_type": "execute_result"
    }
   ],
   "source": [
    "actual_rows = ['Actual 0', 'Actual 1']\n",
    "predicted_cols = ['Predict 0', 'Predict 1']\n",
    "pd.DataFrame(confusion_matrix(y_test, y_pred), index = actual_rows, columns = predicted_cols)"
   ]
  },
  {
   "cell_type": "markdown",
   "metadata": {},
   "source": [
    "This confusion matrix looks a little more balanced than before. Ideally we wish to have high numbers in the TN and TP boxes. Here we have 2,024 in the FN box, which is not ideal but at least the model errs on the side of caution - all these people were predicted to default yet paid back their loan. Thankfully the FP box is only 472 - people who were predicted to be creditworthy yet defaulted."
   ]
  },
  {
   "cell_type": "code",
   "execution_count": 37,
   "metadata": {
    "collapsed": false
   },
   "outputs": [
    {
     "data": {
      "text/plain": [
       "0.66352116473442979"
      ]
     },
     "execution_count": 37,
     "metadata": {},
     "output_type": "execute_result"
    }
   ],
   "source": [
    "accuracy_score(y_test, y_pred)"
   ]
  },
  {
   "cell_type": "code",
   "execution_count": 38,
   "metadata": {
    "collapsed": false
   },
   "outputs": [
    {
     "name": "stdout",
     "output_type": "stream",
     "text": [
      "             precision    recall  f1-score   support\n",
      "\n",
      "          0       0.30      0.65      0.41      1344\n",
      "          1       0.90      0.67      0.76      6074\n",
      "\n",
      "avg / total       0.79      0.66      0.70      7418\n",
      "\n"
     ]
    }
   ],
   "source": [
    "print classification_report(y_test, y_pred)"
   ]
  },
  {
   "cell_type": "markdown",
   "metadata": {},
   "source": [
    "In this Classification Report the recall scores are much closer, such that we could say the model adjustments earlier have brought more balance. Of the positive and negative cases, about two-thirds of each had been predicted. Not a great result in absolute terms, but at least we can see how paramter tuning is an influential part of model building."
   ]
  },
  {
   "cell_type": "code",
   "execution_count": 39,
   "metadata": {
    "collapsed": false
   },
   "outputs": [
    {
     "data": {
      "image/png": "[encoded data removed]",
      "text/plain": [
       "<matplotlib.figure.Figure at 0x11739fc90>"
      ]
     },
     "metadata": {},
     "output_type": "display_data"
    }
   ],
   "source": [
    "print_roc_curve(lr_gs)"
   ]
  },
  {
   "cell_type": "markdown",
   "metadata": {},
   "source": [
    "The **Kolmogorov Smirnov Score** is the maximum difference between the cumulative distribution functions of positive and negative responders. If the model has strong predictive power, the positive curve will be significantly higher than the negative and a higher score will ensue. Conversely, a low KS Score will indicate that the positive and negative CDFs are similar and therefore the model is not so good."
   ]
  },
  {
   "cell_type": "code",
   "execution_count": 40,
   "metadata": {
    "collapsed": false
   },
   "outputs": [
    {
     "data": {
      "text/plain": [
       "Ks_2sampResult(statistic=0.20922081423564301, pvalue=5.2036078024161281e-142)"
      ]
     },
     "execution_count": 40,
     "metadata": {},
     "output_type": "execute_result"
    }
   ],
   "source": [
    "stats.ks_2samp(y_test, y_pred)"
   ]
  },
  {
   "cell_type": "markdown",
   "metadata": {},
   "source": [
    "The **Gini coefficient** is a summary statistic of the Lorenz curve and a measure of distribution within a sample. The Gini coefficient is calculated from unordered size data as the relative mean difference i.e. the mean of the difference between every possible pair of individuals divided by the mean size."
   ]
  },
  {
   "cell_type": "code",
   "execution_count": 41,
   "metadata": {
    "collapsed": true
   },
   "outputs": [],
   "source": [
    "def gini(x):\n",
    "    # Mean Absolute Difference (MAD) using the outer product function.\n",
    "    mad = np.abs(np.subtract.outer(x, x)).mean()\n",
    "    # Relative MAD\n",
    "    rmad = mad/np.mean(x)\n",
    "    # Gini coefficient\n",
    "    g = 0.5 * rmad\n",
    "    return g"
   ]
  },
  {
   "cell_type": "code",
   "execution_count": 42,
   "metadata": {
    "collapsed": false
   },
   "outputs": [
    {
     "data": {
      "text/plain": [
       "0.39040172553248853"
      ]
     },
     "execution_count": 42,
     "metadata": {},
     "output_type": "execute_result"
    }
   ],
   "source": [
    "gini(y_pred)"
   ]
  },
  {
   "cell_type": "markdown",
   "metadata": {},
   "source": [
    "Finally we obtain the coefficients for the input factors. We see that the 'Loan Purpose' is a key factor in determining the probability of repaying a loan, in particular for credit cards, cars and debt consolidation."
   ]
  },
  {
   "cell_type": "code",
   "execution_count": 43,
   "metadata": {
    "collapsed": false
   },
   "outputs": [
    {
     "data": {
      "text/html": [
       "<div>\n",
       "<table border=\"1\" class=\"dataframe\">\n",
       "  <thead>\n",
       "    <tr style=\"text-align: right;\">\n",
       "      <th></th>\n",
       "      <th>Feature</th>\n",
       "      <th>Coefficient</th>\n",
       "    </tr>\n",
       "  </thead>\n",
       "  <tbody>\n",
       "    <tr>\n",
       "      <th>22</th>\n",
       "      <td>Loan Purpose_Credit Card</td>\n",
       "      <td>0.572542</td>\n",
       "    </tr>\n",
       "    <tr>\n",
       "      <th>21</th>\n",
       "      <td>Loan Purpose_Car</td>\n",
       "      <td>0.438860</td>\n",
       "    </tr>\n",
       "    <tr>\n",
       "      <th>23</th>\n",
       "      <td>Loan Purpose_Debt Consolidation</td>\n",
       "      <td>0.211048</td>\n",
       "    </tr>\n",
       "    <tr>\n",
       "      <th>27</th>\n",
       "      <td>Loan Purpose_Major Purchase</td>\n",
       "      <td>0.083042</td>\n",
       "    </tr>\n",
       "    <tr>\n",
       "      <th>49</th>\n",
       "      <td>Address State_IL</td>\n",
       "      <td>0.068528</td>\n",
       "    </tr>\n",
       "  </tbody>\n",
       "</table>\n",
       "</div>"
      ],
      "text/plain": [
       "                            Feature  Coefficient\n",
       "22         Loan Purpose_Credit Card     0.572542\n",
       "21                 Loan Purpose_Car     0.438860\n",
       "23  Loan Purpose_Debt Consolidation     0.211048\n",
       "27      Loan Purpose_Major Purchase     0.083042\n",
       "49                 Address State_IL     0.068528"
      ]
     },
     "execution_count": 43,
     "metadata": {},
     "output_type": "execute_result"
    }
   ],
   "source": [
    "coeffs = [i for x in lr_gs.coef_ for i in x]\n",
    "results = zip(X.columns, coeffs)\n",
    "features = pd.DataFrame(results, columns = ['Feature', 'Coefficient']).sort_values(by='Coefficient', ascending = False)\n",
    "features.head()"
   ]
  },
  {
   "cell_type": "markdown",
   "metadata": {},
   "source": [
    "We also see that with the bottom (negative) factors small businesses may struggle to repay, as is the case for the residents of Nevada, California and Florida."
   ]
  },
  {
   "cell_type": "code",
   "execution_count": 44,
   "metadata": {
    "collapsed": false
   },
   "outputs": [
    {
     "data": {
      "text/html": [
       "<div>\n",
       "<table border=\"1\" class=\"dataframe\">\n",
       "  <thead>\n",
       "    <tr style=\"text-align: right;\">\n",
       "      <th></th>\n",
       "      <th>Feature</th>\n",
       "      <th>Coefficient</th>\n",
       "    </tr>\n",
       "  </thead>\n",
       "  <tbody>\n",
       "    <tr>\n",
       "      <th>8</th>\n",
       "      <td>No. Inquiries In Last 6 Months</td>\n",
       "      <td>-0.207267</td>\n",
       "    </tr>\n",
       "    <tr>\n",
       "      <th>67</th>\n",
       "      <td>Address State_NV</td>\n",
       "      <td>-0.348576</td>\n",
       "    </tr>\n",
       "    <tr>\n",
       "      <th>39</th>\n",
       "      <td>Address State_CA</td>\n",
       "      <td>-0.351868</td>\n",
       "    </tr>\n",
       "    <tr>\n",
       "      <th>44</th>\n",
       "      <td>Address State_FL</td>\n",
       "      <td>-0.425014</td>\n",
       "    </tr>\n",
       "    <tr>\n",
       "      <th>32</th>\n",
       "      <td>Loan Purpose_Small Business</td>\n",
       "      <td>-0.814479</td>\n",
       "    </tr>\n",
       "  </tbody>\n",
       "</table>\n",
       "</div>"
      ],
      "text/plain": [
       "                           Feature  Coefficient\n",
       "8   No. Inquiries In Last 6 Months    -0.207267\n",
       "67                Address State_NV    -0.348576\n",
       "39                Address State_CA    -0.351868\n",
       "44                Address State_FL    -0.425014\n",
       "32     Loan Purpose_Small Business    -0.814479"
      ]
     },
     "execution_count": 44,
     "metadata": {},
     "output_type": "execute_result"
    }
   ],
   "source": [
    "features.tail()"
   ]
  },
  {
   "cell_type": "markdown",
   "metadata": {},
   "source": [
    "---"
   ]
  },
  {
   "cell_type": "markdown",
   "metadata": {},
   "source": [
    "## Conclusions"
   ]
  },
  {
   "cell_type": "markdown",
   "metadata": {},
   "source": [
    "In this workbook we took data from Lending Club and used a Python notebook to perform analysis upon it. There were over 24,000 rows of customer data to investigate.\n",
    "\n",
    "Firstly we used Python and its libraries to prepare the data for modelling. We used various functions to clean the data and create a contiguous dataframe. Once we had this in place we could create some basic descriptive statisitics and charts.\n",
    "\n",
    "The goal of this task however was to create a Logistic Regression model for the data. This was done using SciKit Learn, a popular library in Python for machine learning. The model was run with the default parameters and an accuracy score similar to the baseline was achieved. This was accompanied by a huge disparity in the recall scores, which is often observed in cases where there is a class imbalance. In this particular example we found that over 80% of the data was related to customers who successfully paid back their loan. As a result, when the model is being trained, it has limited negative outcomes to be fitted on and thus doesn't really appreciate what causes those defaults. Thus the model simply said \"I'll just say everyone (at least, almost everyone) will pay back the loan.\" Thus we get a positive recall score of nearly 100% and an accuracy equal to the baseline.\n",
    "\n",
    "On that point I'd also like to mention *Reject Inference*. The data is for customers who have been granted loans. It therefore does not include data for those who were turned down and thus there is a natural bias for credit scoring models generally to have this type of imbalance.\n",
    "\n",
    "When we played with the class weightings we found that accuracy suffered a little but the recall scores converged to similar values. In fact, we got to the point where using balanced class weights meant that both positive and negative recall were running at around 0.66.\n",
    "\n",
    "So in summary it was disappointing not to make a model that produced a clear uplift from the baseline. However, post-tuning the model was achieving accuracy and recall scores that were correct two-thirds of the time."
   ]
  }
 ],
 "metadata": {
  "anaconda-cloud": {},
  "kernelspec": {
   "display_name": "Python [default]",
   "language": "python",
   "name": "python2"
  },
  "language_info": {
   "codemirror_mode": {
    "name": "ipython",
    "version": 2
   },
   "file_extension": ".py",
   "mimetype": "text/x-python",
   "name": "python",
   "nbconvert_exporter": "python",
   "pygments_lexer": "ipython2",
   "version": "2.7.12"
  }
 },
 "nbformat": 4,
 "nbformat_minor": 1
}
