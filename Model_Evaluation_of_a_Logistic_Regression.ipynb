{
 "cells": [
  {
   "cell_type": "markdown",
   "metadata": {},
   "source": [
    "# Model Evaluation of a Logistic Regression"
   ]
  },
  {
   "cell_type": "markdown",
   "metadata": {},
   "source": [
    "In this workbook we will use the Wisconsin Breast Cancer dataset to run a Logistic Regression model and then to evaluate its fit with a number of scoring metrics. Let's kick off by importing the required libraries."
   ]
  },
  {
   "cell_type": "code",
   "execution_count": 1,
   "metadata": {
    "collapsed": false
   },
   "outputs": [],
   "source": [
    "from __future__ import division\n",
    "import pandas as pd\n",
    "from matplotlib import pyplot as plt\n",
    "%matplotlib inline\n",
    "plt.style.use('ggplot')\n",
    "from sklearn.model_selection import train_test_split\n",
    "from sklearn.linear_model import LogisticRegression\n",
    "from sklearn.metrics import confusion_matrix, accuracy_score, precision_score, recall_score, f1_score\n",
    "from sklearn.metrics import classification_report, roc_curve, auc"
   ]
  },
  {
   "cell_type": "markdown",
   "metadata": {},
   "source": [
    "The dataframe requires a little construction work in order to really get started."
   ]
  },
  {
   "cell_type": "code",
   "execution_count": 2,
   "metadata": {
    "collapsed": true
   },
   "outputs": [],
   "source": [
    "attributes = ['radius', 'texture', 'perimeter', 'area', 'smoothness', 'compactness',\n",
    "              'concavity', 'concave_points', 'symmetry', 'fractal_dimension']\n",
    "\n",
    "dimensions = ['mean', 'se', 'worst']\n",
    "\n",
    "attribute_names = ['{}-{}'.format(x, y) for x in attributes for y in dimensions]"
   ]
  },
  {
   "cell_type": "code",
   "execution_count": 3,
   "metadata": {
    "collapsed": false
   },
   "outputs": [
    {
     "data": {
      "text/html": [
       "<div>\n",
       "<table border=\"1\" class=\"dataframe\">\n",
       "  <thead>\n",
       "    <tr style=\"text-align: right;\">\n",
       "      <th></th>\n",
       "      <th>id</th>\n",
       "      <th>diagnosis</th>\n",
       "      <th>radius-mean</th>\n",
       "      <th>radius-se</th>\n",
       "      <th>radius-worst</th>\n",
       "      <th>texture-mean</th>\n",
       "      <th>texture-se</th>\n",
       "      <th>texture-worst</th>\n",
       "      <th>perimeter-mean</th>\n",
       "      <th>perimeter-se</th>\n",
       "      <th>...</th>\n",
       "      <th>concavity-worst</th>\n",
       "      <th>concave_points-mean</th>\n",
       "      <th>concave_points-se</th>\n",
       "      <th>concave_points-worst</th>\n",
       "      <th>symmetry-mean</th>\n",
       "      <th>symmetry-se</th>\n",
       "      <th>symmetry-worst</th>\n",
       "      <th>fractal_dimension-mean</th>\n",
       "      <th>fractal_dimension-se</th>\n",
       "      <th>fractal_dimension-worst</th>\n",
       "    </tr>\n",
       "  </thead>\n",
       "  <tbody>\n",
       "    <tr>\n",
       "      <th>0</th>\n",
       "      <td>842302</td>\n",
       "      <td>M</td>\n",
       "      <td>17.99</td>\n",
       "      <td>10.38</td>\n",
       "      <td>122.80</td>\n",
       "      <td>1001.0</td>\n",
       "      <td>0.11840</td>\n",
       "      <td>0.27760</td>\n",
       "      <td>0.3001</td>\n",
       "      <td>0.14710</td>\n",
       "      <td>...</td>\n",
       "      <td>25.38</td>\n",
       "      <td>17.33</td>\n",
       "      <td>184.60</td>\n",
       "      <td>2019.0</td>\n",
       "      <td>0.1622</td>\n",
       "      <td>0.6656</td>\n",
       "      <td>0.7119</td>\n",
       "      <td>0.2654</td>\n",
       "      <td>0.4601</td>\n",
       "      <td>0.11890</td>\n",
       "    </tr>\n",
       "    <tr>\n",
       "      <th>1</th>\n",
       "      <td>842517</td>\n",
       "      <td>M</td>\n",
       "      <td>20.57</td>\n",
       "      <td>17.77</td>\n",
       "      <td>132.90</td>\n",
       "      <td>1326.0</td>\n",
       "      <td>0.08474</td>\n",
       "      <td>0.07864</td>\n",
       "      <td>0.0869</td>\n",
       "      <td>0.07017</td>\n",
       "      <td>...</td>\n",
       "      <td>24.99</td>\n",
       "      <td>23.41</td>\n",
       "      <td>158.80</td>\n",
       "      <td>1956.0</td>\n",
       "      <td>0.1238</td>\n",
       "      <td>0.1866</td>\n",
       "      <td>0.2416</td>\n",
       "      <td>0.1860</td>\n",
       "      <td>0.2750</td>\n",
       "      <td>0.08902</td>\n",
       "    </tr>\n",
       "    <tr>\n",
       "      <th>2</th>\n",
       "      <td>84300903</td>\n",
       "      <td>M</td>\n",
       "      <td>19.69</td>\n",
       "      <td>21.25</td>\n",
       "      <td>130.00</td>\n",
       "      <td>1203.0</td>\n",
       "      <td>0.10960</td>\n",
       "      <td>0.15990</td>\n",
       "      <td>0.1974</td>\n",
       "      <td>0.12790</td>\n",
       "      <td>...</td>\n",
       "      <td>23.57</td>\n",
       "      <td>25.53</td>\n",
       "      <td>152.50</td>\n",
       "      <td>1709.0</td>\n",
       "      <td>0.1444</td>\n",
       "      <td>0.4245</td>\n",
       "      <td>0.4504</td>\n",
       "      <td>0.2430</td>\n",
       "      <td>0.3613</td>\n",
       "      <td>0.08758</td>\n",
       "    </tr>\n",
       "    <tr>\n",
       "      <th>3</th>\n",
       "      <td>84348301</td>\n",
       "      <td>M</td>\n",
       "      <td>11.42</td>\n",
       "      <td>20.38</td>\n",
       "      <td>77.58</td>\n",
       "      <td>386.1</td>\n",
       "      <td>0.14250</td>\n",
       "      <td>0.28390</td>\n",
       "      <td>0.2414</td>\n",
       "      <td>0.10520</td>\n",
       "      <td>...</td>\n",
       "      <td>14.91</td>\n",
       "      <td>26.50</td>\n",
       "      <td>98.87</td>\n",
       "      <td>567.7</td>\n",
       "      <td>0.2098</td>\n",
       "      <td>0.8663</td>\n",
       "      <td>0.6869</td>\n",
       "      <td>0.2575</td>\n",
       "      <td>0.6638</td>\n",
       "      <td>0.17300</td>\n",
       "    </tr>\n",
       "    <tr>\n",
       "      <th>4</th>\n",
       "      <td>84358402</td>\n",
       "      <td>M</td>\n",
       "      <td>20.29</td>\n",
       "      <td>14.34</td>\n",
       "      <td>135.10</td>\n",
       "      <td>1297.0</td>\n",
       "      <td>0.10030</td>\n",
       "      <td>0.13280</td>\n",
       "      <td>0.1980</td>\n",
       "      <td>0.10430</td>\n",
       "      <td>...</td>\n",
       "      <td>22.54</td>\n",
       "      <td>16.67</td>\n",
       "      <td>152.20</td>\n",
       "      <td>1575.0</td>\n",
       "      <td>0.1374</td>\n",
       "      <td>0.2050</td>\n",
       "      <td>0.4000</td>\n",
       "      <td>0.1625</td>\n",
       "      <td>0.2364</td>\n",
       "      <td>0.07678</td>\n",
       "    </tr>\n",
       "  </tbody>\n",
       "</table>\n",
       "<p>5 rows × 32 columns</p>\n",
       "</div>"
      ],
      "text/plain": [
       "         id diagnosis  radius-mean  radius-se  radius-worst  texture-mean  \\\n",
       "0    842302         M        17.99      10.38        122.80        1001.0   \n",
       "1    842517         M        20.57      17.77        132.90        1326.0   \n",
       "2  84300903         M        19.69      21.25        130.00        1203.0   \n",
       "3  84348301         M        11.42      20.38         77.58         386.1   \n",
       "4  84358402         M        20.29      14.34        135.10        1297.0   \n",
       "\n",
       "   texture-se  texture-worst  perimeter-mean  perimeter-se  \\\n",
       "0     0.11840        0.27760          0.3001       0.14710   \n",
       "1     0.08474        0.07864          0.0869       0.07017   \n",
       "2     0.10960        0.15990          0.1974       0.12790   \n",
       "3     0.14250        0.28390          0.2414       0.10520   \n",
       "4     0.10030        0.13280          0.1980       0.10430   \n",
       "\n",
       "            ...             concavity-worst  concave_points-mean  \\\n",
       "0           ...                       25.38                17.33   \n",
       "1           ...                       24.99                23.41   \n",
       "2           ...                       23.57                25.53   \n",
       "3           ...                       14.91                26.50   \n",
       "4           ...                       22.54                16.67   \n",
       "\n",
       "   concave_points-se  concave_points-worst  symmetry-mean  symmetry-se  \\\n",
       "0             184.60                2019.0         0.1622       0.6656   \n",
       "1             158.80                1956.0         0.1238       0.1866   \n",
       "2             152.50                1709.0         0.1444       0.4245   \n",
       "3              98.87                 567.7         0.2098       0.8663   \n",
       "4             152.20                1575.0         0.1374       0.2050   \n",
       "\n",
       "   symmetry-worst  fractal_dimension-mean  fractal_dimension-se  \\\n",
       "0          0.7119                  0.2654                0.4601   \n",
       "1          0.2416                  0.1860                0.2750   \n",
       "2          0.4504                  0.2430                0.3613   \n",
       "3          0.6869                  0.2575                0.6638   \n",
       "4          0.4000                  0.1625                0.2364   \n",
       "\n",
       "   fractal_dimension-worst  \n",
       "0                  0.11890  \n",
       "1                  0.08902  \n",
       "2                  0.08758  \n",
       "3                  0.17300  \n",
       "4                  0.07678  \n",
       "\n",
       "[5 rows x 32 columns]"
      ]
     },
     "execution_count": 3,
     "metadata": {},
     "output_type": "execute_result"
    }
   ],
   "source": [
    "column_names = ['id', 'diagnosis'] + attribute_names\n",
    "df = pd.read_csv('data/breast_cancer.csv', header = None, names = column_names)\n",
    "df.head()"
   ]
  },
  {
   "cell_type": "markdown",
   "metadata": {},
   "source": [
    "To make some steps more straightforward we will use the mapping function to change the diagnosis 'Malignant' to 1 and 'Benign' to 0."
   ]
  },
  {
   "cell_type": "code",
   "execution_count": 4,
   "metadata": {
    "collapsed": true
   },
   "outputs": [],
   "source": [
    "mapping = {\"B\":0, \"M\":1}\n",
    "df[\"diagnosis_2\"] = df[\"diagnosis\"].map(mapping)"
   ]
  },
  {
   "cell_type": "markdown",
   "metadata": {},
   "source": [
    "Create the feature matrix and target vector."
   ]
  },
  {
   "cell_type": "code",
   "execution_count": 5,
   "metadata": {
    "collapsed": false
   },
   "outputs": [
    {
     "data": {
      "text/plain": [
       "0    357\n",
       "1    212\n",
       "Name: diagnosis_2, dtype: int64"
      ]
     },
     "execution_count": 5,
     "metadata": {},
     "output_type": "execute_result"
    }
   ],
   "source": [
    "X = df[attribute_names]\n",
    "y = df['diagnosis_2']\n",
    "y.value_counts()"
   ]
  },
  {
   "cell_type": "markdown",
   "metadata": {},
   "source": [
    "Split the data into a train / test split."
   ]
  },
  {
   "cell_type": "code",
   "execution_count": 6,
   "metadata": {
    "collapsed": true
   },
   "outputs": [],
   "source": [
    "X_train, X_test, y_train, y_test = train_test_split(X, y, test_size = 0.33, random_state = 10)"
   ]
  },
  {
   "cell_type": "markdown",
   "metadata": {},
   "source": [
    "Then run the Logistic Regression - instantiate, fit and get the predictions."
   ]
  },
  {
   "cell_type": "code",
   "execution_count": 7,
   "metadata": {
    "collapsed": false
   },
   "outputs": [],
   "source": [
    "model = LogisticRegression()\n",
    "model.fit(X_train, y_train)\n",
    "y_pred = model.predict(X_test)"
   ]
  },
  {
   "cell_type": "markdown",
   "metadata": {},
   "source": [
    "With some supervised machine learning techniques various class values are predicted, but there are no underlying probability outputs that can be utilised. Logistic Regression, however, is a classification algorithm that does have this capability - we can get the probabilities from the *predict_proba* function. Why is this useful? Well, for a binary problem probabilities less than 0.5 are assigned a class of 0 and those greater than or equal to 0.5 are given a class of 1. That is intuitive of course but we could in theory assign a cut-off point of 0.4 or 0.45 instead of 0.5. This isn't always used but it does give the user the opportunity to define the classification threshold when using Logistic Regression."
   ]
  },
  {
   "cell_type": "code",
   "execution_count": 8,
   "metadata": {
    "collapsed": true
   },
   "outputs": [],
   "source": [
    "y_prob = model.predict_proba(X_test)"
   ]
  },
  {
   "cell_type": "markdown",
   "metadata": {},
   "source": [
    "Ok, great, we have run the Logistic Regression model. Time to perform some model evaluation."
   ]
  },
  {
   "cell_type": "markdown",
   "metadata": {},
   "source": [
    "### Confusion Matrix"
   ]
  },
  {
   "cell_type": "markdown",
   "metadata": {},
   "source": [
    "The Confusion Matrix shows us a breakdown of the various predictions and results.\n",
    "\n",
    "|Type|Description|\n",
    "|---|---|---|\n",
    "| True Positive TP| A positive prediction was followed by a positive result|\n",
    "| False Positive FP| A positive prediction was followed by a negative result|\n",
    "| True Negative TN| A negative prediction was followed by a negative result|\n",
    "| False Negative FN| A negative prediction was followed by a positive result|\n",
    "\n",
    "In this particular case we are looking to see how predictions of cancer turn out. If we predict that a tumour is benign, we hope this stays negative (true negative) as a false negative would be devastating for the patient. However, if we predicted a positive (tumour is malignant) then if this transpired to actually be negative (that is, a false positive) then this is good news for the patient.\n",
    "\n",
    "In the confusion matrix below we have a total sum of 188, this is the test set generated from the train test split earlier. Of the tumours predicted to be benign, 117 out of 120 turned out to be so. And of those predicted to be malignant, 61 out of 68 turned out that way."
   ]
  },
  {
   "cell_type": "code",
   "execution_count": 9,
   "metadata": {
    "collapsed": false
   },
   "outputs": [
    {
     "data": {
      "text/html": [
       "<div>\n",
       "<table border=\"1\" class=\"dataframe\">\n",
       "  <thead>\n",
       "    <tr style=\"text-align: right;\">\n",
       "      <th></th>\n",
       "      <th>predicted_benign</th>\n",
       "      <th>predicted_malignant</th>\n",
       "    </tr>\n",
       "  </thead>\n",
       "  <tbody>\n",
       "    <tr>\n",
       "      <th>is_benign</th>\n",
       "      <td>117</td>\n",
       "      <td>7</td>\n",
       "    </tr>\n",
       "    <tr>\n",
       "      <th>is_malignant</th>\n",
       "      <td>3</td>\n",
       "      <td>61</td>\n",
       "    </tr>\n",
       "  </tbody>\n",
       "</table>\n",
       "</div>"
      ],
      "text/plain": [
       "              predicted_benign  predicted_malignant\n",
       "is_benign                  117                    7\n",
       "is_malignant                 3                   61"
      ]
     },
     "execution_count": 9,
     "metadata": {},
     "output_type": "execute_result"
    }
   ],
   "source": [
    "cm = confusion_matrix(y_test, y_pred)\n",
    "con_mat = pd.DataFrame(cm, index = ['is_benign', 'is_malignant'], columns = ['predicted_benign', 'predicted_malignant'])\n",
    "con_mat"
   ]
  },
  {
   "cell_type": "markdown",
   "metadata": {},
   "source": [
    "Let's get the four values into memory - this will come in handy for later use."
   ]
  },
  {
   "cell_type": "code",
   "execution_count": 10,
   "metadata": {
    "collapsed": false
   },
   "outputs": [],
   "source": [
    "TP = con_mat.loc['is_malignant', 'predicted_malignant']\n",
    "TN = con_mat.loc['is_benign', 'predicted_benign']\n",
    "FP = con_mat.loc['is_benign', 'predicted_malignant']\n",
    "FN = con_mat.loc['is_malignant', 'predicted_benign']"
   ]
  },
  {
   "cell_type": "markdown",
   "metadata": {},
   "source": [
    "Now we move on to scoring metrics."
   ]
  },
  {
   "cell_type": "markdown",
   "metadata": {},
   "source": [
    "### Accuracy"
   ]
  },
  {
   "cell_type": "markdown",
   "metadata": {},
   "source": [
    "The accuracy score is defined as"
   ]
  },
  {
   "cell_type": "markdown",
   "metadata": {},
   "source": [
    "$$Accuracy = \\frac{TP+TN}{TP+TN+FP+FN}$$"
   ]
  },
  {
   "cell_type": "code",
   "execution_count": 11,
   "metadata": {
    "collapsed": false
   },
   "outputs": [
    {
     "name": "stdout",
     "output_type": "stream",
     "text": [
      "Accuracy score in skLearn 0.9468\n"
     ]
    }
   ],
   "source": [
    "print 'Accuracy score in skLearn', accuracy_score(y_test, y_pred).round(4)"
   ]
  },
  {
   "cell_type": "code",
   "execution_count": 12,
   "metadata": {
    "collapsed": false
   },
   "outputs": [
    {
     "name": "stdout",
     "output_type": "stream",
     "text": [
      "Accuracy score 0.9468\n"
     ]
    }
   ],
   "source": [
    "print 'Accuracy score', round((TP+TN)/(TP+TN+FP+FN),4)"
   ]
  },
  {
   "cell_type": "markdown",
   "metadata": {},
   "source": [
    "It shows the proportion of all the true values relative to the sum of all the values. We see here that the model correctly predicts (whether that be positive or negative) 94.7% of the time. "
   ]
  },
  {
   "cell_type": "markdown",
   "metadata": {},
   "source": [
    "### Precision"
   ]
  },
  {
   "cell_type": "markdown",
   "metadata": {},
   "source": [
    "Now we look at Precision, of which there are two types."
   ]
  },
  {
   "cell_type": "markdown",
   "metadata": {},
   "source": [
    "$$Precision_{Positive} = \\frac{TP}{TP+FP}$$"
   ]
  },
  {
   "cell_type": "markdown",
   "metadata": {},
   "source": [
    "$$Precision_{Negative} = \\frac{TN}{TN+FN}$$"
   ]
  },
  {
   "cell_type": "code",
   "execution_count": 13,
   "metadata": {
    "collapsed": false
   },
   "outputs": [
    {
     "name": "stdout",
     "output_type": "stream",
     "text": [
      "Precision score in skLearn 0.936\n"
     ]
    }
   ],
   "source": [
    "# SciKit Learn will give us a weighting of the positive and negative scores\n",
    "print 'Precision score in skLearn', precision_score(y_test, y_pred, average = 'macro').round(4)"
   ]
  },
  {
   "cell_type": "code",
   "execution_count": 14,
   "metadata": {
    "collapsed": false
   },
   "outputs": [
    {
     "name": "stdout",
     "output_type": "stream",
     "text": [
      "Precision Positive 0.8971\n"
     ]
    }
   ],
   "source": [
    "precision_pos = TP/(TP+FP)\n",
    "print 'Precision Positive', precision_pos.round(4)"
   ]
  },
  {
   "cell_type": "code",
   "execution_count": 15,
   "metadata": {
    "collapsed": false
   },
   "outputs": [
    {
     "name": "stdout",
     "output_type": "stream",
     "text": [
      "Precision Negative 0.975\n"
     ]
    }
   ],
   "source": [
    "precision_neg = TN/(TN+FN)\n",
    "print 'Precision Negative', precision_neg.round(4)"
   ]
  },
  {
   "cell_type": "markdown",
   "metadata": {},
   "source": [
    "With $Precision_{Positive}$ we evaluate the proportion of true positives out of all the predicted positives. Likewise for $Precision_{Negative}$ we evaluate the proportion of the true negatives relative to all the predicted negatives. We see in the above example that of all the positive predictions, nearly 90% turned out to be positive. Over 97% was obtained for the negative precision. This is quite encouraging. Of the positive predictions there is still a 10.3% chance the diagnosis is incorrect."
   ]
  },
  {
   "cell_type": "markdown",
   "metadata": {},
   "source": [
    "### Recall"
   ]
  },
  {
   "cell_type": "markdown",
   "metadata": {},
   "source": [
    "Like Precision, recall has a Positive and Negative version."
   ]
  },
  {
   "cell_type": "markdown",
   "metadata": {},
   "source": [
    "$$Recall_{Positive} = \\frac{TP}{TP+FN}$$"
   ]
  },
  {
   "cell_type": "markdown",
   "metadata": {},
   "source": [
    "$$Recall_{Negative} = \\frac{TN}{TN+FP}$$"
   ]
  },
  {
   "cell_type": "code",
   "execution_count": 16,
   "metadata": {
    "collapsed": false
   },
   "outputs": [
    {
     "name": "stdout",
     "output_type": "stream",
     "text": [
      "Recall score in skLearn 0.9483\n"
     ]
    }
   ],
   "source": [
    "print 'Recall score in skLearn', recall_score(y_test, y_pred, average = 'macro').round(4)"
   ]
  },
  {
   "cell_type": "code",
   "execution_count": 17,
   "metadata": {
    "collapsed": false
   },
   "outputs": [
    {
     "name": "stdout",
     "output_type": "stream",
     "text": [
      "Recall Positive 0.9531\n",
      "This is also known as Sensitivity\n"
     ]
    }
   ],
   "source": [
    "recall_pos = TP/(TP+FN)\n",
    "print 'Recall Positive', recall_pos.round(4)\n",
    "print 'This is also known as Sensitivity'"
   ]
  },
  {
   "cell_type": "code",
   "execution_count": 18,
   "metadata": {
    "collapsed": false
   },
   "outputs": [
    {
     "name": "stdout",
     "output_type": "stream",
     "text": [
      "Recall Negative 0.9435\n",
      "This is also known as Specificity\n"
     ]
    }
   ],
   "source": [
    "recall_neg = TN/(TN+FP)\n",
    "print 'Recall Negative', recall_neg.round(4)\n",
    "print 'This is also known as Specificity'"
   ]
  },
  {
   "cell_type": "markdown",
   "metadata": {},
   "source": [
    "In $Recall_{Positive}$ we say: of all the results that turned out to be positive, how many had been predicted to do so? And with $Recall_{Negative}$ we say: of all the results that turned out to be negative, how many had been predicted to do so? Looking at the results above, the negative recall is higher than the positive recall. So for the results that turned out to be positive (the tumour is malignant) around 95% had been predicted. Whereas with the negative recall, about 94% of actual negatives had been predicted."
   ]
  },
  {
   "cell_type": "markdown",
   "metadata": {},
   "source": [
    "### F1 Score"
   ]
  },
  {
   "cell_type": "markdown",
   "metadata": {},
   "source": [
    "The F1 Score gives an average of Precision and Recall."
   ]
  },
  {
   "cell_type": "markdown",
   "metadata": {},
   "source": [
    "$$F1 = \\frac{2 \\times Precision \\times Recall}{Precision + Recall}$$"
   ]
  },
  {
   "cell_type": "code",
   "execution_count": 19,
   "metadata": {
    "collapsed": false
   },
   "outputs": [
    {
     "name": "stdout",
     "output_type": "stream",
     "text": [
      "F1 score in skLearn 0.942\n"
     ]
    }
   ],
   "source": [
    "print 'F1 score in skLearn', f1_score(y_test, y_pred, average = 'macro').round(3)"
   ]
  },
  {
   "cell_type": "code",
   "execution_count": 20,
   "metadata": {
    "collapsed": false
   },
   "outputs": [
    {
     "name": "stdout",
     "output_type": "stream",
     "text": [
      "F1 Score Positive 0.9242\n"
     ]
    }
   ],
   "source": [
    "f1_pos = 2*precision_pos*recall_pos/(precision_pos+recall_pos)\n",
    "print 'F1 Score Positive', f1_pos.round(4)"
   ]
  },
  {
   "cell_type": "code",
   "execution_count": 21,
   "metadata": {
    "collapsed": false
   },
   "outputs": [
    {
     "name": "stdout",
     "output_type": "stream",
     "text": [
      "F1 Score Negative 0.959\n"
     ]
    }
   ],
   "source": [
    "f1_neg = 2*precision_neg*recall_neg/(precision_neg+recall_neg)\n",
    "print 'F1 Score Negative', f1_neg.round(4)"
   ]
  },
  {
   "cell_type": "markdown",
   "metadata": {},
   "source": [
    "### Classification Report"
   ]
  },
  {
   "cell_type": "markdown",
   "metadata": {},
   "source": [
    "Above I ran the reader through the calculations manually for completeness. With skLearn however the Precision, Recall and F1 Scores can be condensed into a single report."
   ]
  },
  {
   "cell_type": "code",
   "execution_count": 22,
   "metadata": {
    "collapsed": false
   },
   "outputs": [
    {
     "name": "stdout",
     "output_type": "stream",
     "text": [
      "             precision    recall  f1-score   support\n",
      "\n",
      "          0       0.97      0.94      0.96       124\n",
      "          1       0.90      0.95      0.92        64\n",
      "\n",
      "avg / total       0.95      0.95      0.95       188\n",
      "\n"
     ]
    }
   ],
   "source": [
    "print classification_report(y_test, y_pred)"
   ]
  },
  {
   "cell_type": "markdown",
   "metadata": {},
   "source": [
    "### Receiver Operating Characteristic (ROC) Curve"
   ]
  },
  {
   "cell_type": "markdown",
   "metadata": {},
   "source": [
    "Here we plot the ROC curve, with a brief discussion of what it is afterwards."
   ]
  },
  {
   "cell_type": "code",
   "execution_count": 23,
   "metadata": {
    "collapsed": false
   },
   "outputs": [
    {
     "data": {
      "image/png": "[encoded data removed]",
      "text/plain": [
       "<matplotlib.figure.Figure at 0x114982790>"
      ]
     },
     "metadata": {},
     "output_type": "display_data"
    }
   ],
   "source": [
    "y_decision = model.decision_function(X_test)\n",
    "FPR, TPR, THR = roc_curve(y_test, y_decision)\n",
    "roc_auc = auc(FPR, TPR)\n",
    "plt.plot(FPR, TPR, label = 'ROC Curve (Area = %0.2f)' % roc_auc, linewidth = 4)\n",
    "plt.plot([0, 1], [0, 1], 'k--', linewidth = 2)\n",
    "plt.xlim([0.0, 1.0])\n",
    "plt.ylim([0.0, 1.05])\n",
    "plt.xlabel('False Positive Rate (1-Specificity)', fontsize = 10)\n",
    "plt.ylabel('True Positive Rate (Sensitivity)', fontsize = 10)\n",
    "plt.title('ROC Curve for Cancer Detection', fontsize = 12)\n",
    "plt.legend(loc = 'lower right', fontsize = 10)\n",
    "plt.show()"
   ]
  },
  {
   "cell_type": "markdown",
   "metadata": {},
   "source": [
    "The ROC curve compares the True Positive Rate (TPR) against the False Positive Rate (FPR). The TPR is known as the Sensitivity, or also the Recall Positive which we know from before is TP/(TP+FN). That is, of all the results that were actually positive, what proportion had been predicted to be so? The FPR is defined as 1-Specificity, with Specificity also being the Recall Negative, which we know is TN/(TN+FP). Thus the ROC curve is unaffected by the distribution of class labels since it is only comparing the correct versus incorrect label assignments. The curve is generated by varying a threshold across a range of values and then seeing how the TPR and FPR compare.\n",
    "\n",
    "While terms such as True Positive Rate and Sensitivity may not be that intuitive, the nature of the graph is quite easy to interpret. We seek to maximise the Area Under the Curve (AUC), and the closer this value is to one the better the classifier is. We look to obtain a line (the solid line above) that will be close to the top left corner of the chart - this will help maximise the AUC. Random guessing the classes would lead to a profile depicted by the dotted line which gives an AUC of 0.5."
   ]
  }
 ],
 "metadata": {
  "anaconda-cloud": {},
  "kernelspec": {
   "display_name": "Python [default]",
   "language": "python",
   "name": "python2"
  },
  "language_info": {
   "codemirror_mode": {
    "name": "ipython",
    "version": 2
   },
   "file_extension": ".py",
   "mimetype": "text/x-python",
   "name": "python",
   "nbconvert_exporter": "python",
   "pygments_lexer": "ipython2",
   "version": "2.7.12"
  }
 },
 "nbformat": 4,
 "nbformat_minor": 1
}
