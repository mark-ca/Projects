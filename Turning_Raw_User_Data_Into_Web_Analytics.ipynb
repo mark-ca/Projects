{
 "cells": [
  {
   "cell_type": "markdown",
   "metadata": {},
   "source": [
    "# Turning Raw User Data Into Web Analytics"
   ]
  },
  {
   "cell_type": "markdown",
   "metadata": {},
   "source": [
    "In this notebook I take raw user data from an app and use Python to investigate how the app is performing. The app is a creative design platform where users can build, draw or learn. I start by preparing the data for analysis before writing code to compute the following metrics.\n",
    "\n",
    "* Installation Date.\n",
    "* Number of Users.\n",
    "* Monthly Active Users.\n",
    "* Retention Rate.\n",
    "* Time in Application.\n",
    "* Content Type.\n",
    "\n",
    "There are three versions of the app, so we would like to see if newer versions of the app have increased customer engagement."
   ]
  },
  {
   "cell_type": "markdown",
   "metadata": {},
   "source": [
    "---"
   ]
  },
  {
   "cell_type": "markdown",
   "metadata": {},
   "source": [
    "## Data Preparation"
   ]
  },
  {
   "cell_type": "markdown",
   "metadata": {},
   "source": [
    "Start by importing the libraries required for this test."
   ]
  },
  {
   "cell_type": "code",
   "execution_count": 1,
   "metadata": {
    "collapsed": false
   },
   "outputs": [],
   "source": [
    "from __future__ import division\n",
    "import numpy as np\n",
    "import pandas as pd\n",
    "from datetime import datetime, timedelta\n",
    "from matplotlib import pyplot as plt\n",
    "%matplotlib inline\n",
    "from matplotlib.dates import date2num\n",
    "import seaborn as sns"
   ]
  },
  {
   "cell_type": "markdown",
   "metadata": {},
   "source": [
    "Create two dataframes for the *users* and *events* data."
   ]
  },
  {
   "cell_type": "code",
   "execution_count": 2,
   "metadata": {
    "collapsed": false
   },
   "outputs": [
    {
     "data": {
      "text/html": [
       "<div>\n",
       "<table border=\"1\" class=\"dataframe\">\n",
       "  <thead>\n",
       "    <tr style=\"text-align: right;\">\n",
       "      <th></th>\n",
       "      <th>user_id</th>\n",
       "      <th>install_date</th>\n",
       "      <th>app_version</th>\n",
       "    </tr>\n",
       "  </thead>\n",
       "  <tbody>\n",
       "    <tr>\n",
       "      <th>0</th>\n",
       "      <td>000a0efdaf94f2a5a09ab0d03f92f5bf</td>\n",
       "      <td>2014-12-25</td>\n",
       "      <td>v1</td>\n",
       "    </tr>\n",
       "    <tr>\n",
       "      <th>1</th>\n",
       "      <td>0020cb805d63f036ad2c22dd8e76e368</td>\n",
       "      <td>2016-01-16</td>\n",
       "      <td>Unknown</td>\n",
       "    </tr>\n",
       "    <tr>\n",
       "      <th>2</th>\n",
       "      <td>002a9119a4b3dfb05e0159eee40576b6</td>\n",
       "      <td>2015-12-29</td>\n",
       "      <td>v2</td>\n",
       "    </tr>\n",
       "    <tr>\n",
       "      <th>3</th>\n",
       "      <td>0038c5018fb1c0c9d0dea9181a5a0834</td>\n",
       "      <td>2015-06-06</td>\n",
       "      <td>v2</td>\n",
       "    </tr>\n",
       "    <tr>\n",
       "      <th>4</th>\n",
       "      <td>00448cf7dd8ad9e8a57fdcfa262a4438</td>\n",
       "      <td>2015-12-22</td>\n",
       "      <td>v2</td>\n",
       "    </tr>\n",
       "  </tbody>\n",
       "</table>\n",
       "</div>"
      ],
      "text/plain": [
       "                            user_id install_date app_version\n",
       "0  000a0efdaf94f2a5a09ab0d03f92f5bf   2014-12-25          v1\n",
       "1  0020cb805d63f036ad2c22dd8e76e368   2016-01-16     Unknown\n",
       "2  002a9119a4b3dfb05e0159eee40576b6   2015-12-29          v2\n",
       "3  0038c5018fb1c0c9d0dea9181a5a0834   2015-06-06          v2\n",
       "4  00448cf7dd8ad9e8a57fdcfa262a4438   2015-12-22          v2"
      ]
     },
     "execution_count": 2,
     "metadata": {},
     "output_type": "execute_result"
    }
   ],
   "source": [
    "users = pd.read_csv('data/users.csv')\n",
    "users.head()"
   ]
  },
  {
   "cell_type": "markdown",
   "metadata": {},
   "source": [
    "We see that the *users* data contains the unique user id, date of download and the version that was downloaded."
   ]
  },
  {
   "cell_type": "code",
   "execution_count": 3,
   "metadata": {
    "collapsed": false
   },
   "outputs": [
    {
     "data": {
      "text/html": [
       "<div>\n",
       "<table border=\"1\" class=\"dataframe\">\n",
       "  <thead>\n",
       "    <tr style=\"text-align: right;\">\n",
       "      <th></th>\n",
       "      <th>user_id</th>\n",
       "      <th>user_session_id</th>\n",
       "      <th>event_timestamp</th>\n",
       "      <th>app</th>\n",
       "      <th>time_seconds</th>\n",
       "    </tr>\n",
       "  </thead>\n",
       "  <tbody>\n",
       "    <tr>\n",
       "      <th>0</th>\n",
       "      <td>02fd5305cce536a1940aea0818ba7a3d</td>\n",
       "      <td>6690452e89aa62cdfa818d1f469aaf37</td>\n",
       "      <td>2015-03-22 00:08:12</td>\n",
       "      <td>build</td>\n",
       "      <td>67</td>\n",
       "    </tr>\n",
       "    <tr>\n",
       "      <th>1</th>\n",
       "      <td>955ef0ba3e7de00197f2ab6828cb4d05</td>\n",
       "      <td>af2d613e4e5695fd4d8610a0086de760</td>\n",
       "      <td>2015-03-22 20:56:29</td>\n",
       "      <td>build</td>\n",
       "      <td>277</td>\n",
       "    </tr>\n",
       "    <tr>\n",
       "      <th>2</th>\n",
       "      <td>955ef0ba3e7de00197f2ab6828cb4d05</td>\n",
       "      <td>af2d613e4e5695fd4d8610a0086de760</td>\n",
       "      <td>2015-03-22 21:15:33</td>\n",
       "      <td>build</td>\n",
       "      <td>779</td>\n",
       "    </tr>\n",
       "    <tr>\n",
       "      <th>3</th>\n",
       "      <td>3768b95029f051316727e5413362dcff</td>\n",
       "      <td>7af8b316d551662e89ef0afbedd06be8</td>\n",
       "      <td>2015-03-22 02:17:00</td>\n",
       "      <td>build</td>\n",
       "      <td>145</td>\n",
       "    </tr>\n",
       "    <tr>\n",
       "      <th>4</th>\n",
       "      <td>3768b95029f051316727e5413362dcff</td>\n",
       "      <td>7af8b316d551662e89ef0afbedd06be8</td>\n",
       "      <td>2015-03-22 03:26:03</td>\n",
       "      <td>draw</td>\n",
       "      <td>319</td>\n",
       "    </tr>\n",
       "  </tbody>\n",
       "</table>\n",
       "</div>"
      ],
      "text/plain": [
       "                            user_id                   user_session_id  \\\n",
       "0  02fd5305cce536a1940aea0818ba7a3d  6690452e89aa62cdfa818d1f469aaf37   \n",
       "1  955ef0ba3e7de00197f2ab6828cb4d05  af2d613e4e5695fd4d8610a0086de760   \n",
       "2  955ef0ba3e7de00197f2ab6828cb4d05  af2d613e4e5695fd4d8610a0086de760   \n",
       "3  3768b95029f051316727e5413362dcff  7af8b316d551662e89ef0afbedd06be8   \n",
       "4  3768b95029f051316727e5413362dcff  7af8b316d551662e89ef0afbedd06be8   \n",
       "\n",
       "       event_timestamp    app  time_seconds  \n",
       "0  2015-03-22 00:08:12  build            67  \n",
       "1  2015-03-22 20:56:29  build           277  \n",
       "2  2015-03-22 21:15:33  build           779  \n",
       "3  2015-03-22 02:17:00  build           145  \n",
       "4  2015-03-22 03:26:03   draw           319  "
      ]
     },
     "execution_count": 3,
     "metadata": {},
     "output_type": "execute_result"
    }
   ],
   "source": [
    "events = pd.read_csv('data/events.csv')\n",
    "events.head()"
   ]
  },
  {
   "cell_type": "markdown",
   "metadata": {},
   "source": [
    "The *events* data contains the unique user id once again, and a user session ID. This is a stamp that is created each time a user triggers an event (e.g. opening a new page) when using the app.\n",
    "\n",
    "There is also a timestamp, what type of action was performed (build, draw or learn) and the time spent in that feature.\n",
    "\n",
    "These two dataframes, *users* and *events*, form the basis of our analysis."
   ]
  },
  {
   "cell_type": "markdown",
   "metadata": {},
   "source": [
    "---"
   ]
  },
  {
   "cell_type": "markdown",
   "metadata": {},
   "source": [
    "## Data Preprocessing"
   ]
  },
  {
   "cell_type": "markdown",
   "metadata": {},
   "source": [
    "To help with data manipulation later, we convert the object columns to string and datetime formats as applicable."
   ]
  },
  {
   "cell_type": "code",
   "execution_count": 4,
   "metadata": {
    "collapsed": false
   },
   "outputs": [],
   "source": [
    "users['user_id'] = users['user_id'].astype(str)\n",
    "users['install_date'] = pd.to_datetime(users['install_date'])\n",
    "users['app_version'] = users['app_version'].astype(str)"
   ]
  },
  {
   "cell_type": "code",
   "execution_count": 5,
   "metadata": {
    "collapsed": false
   },
   "outputs": [],
   "source": [
    "events['user_id'] = events['user_id'].astype(str)\n",
    "events['user_session_id'] = events['user_session_id'].astype(str)\n",
    "events['event_timestamp'] = pd.to_datetime(events['event_timestamp'])\n",
    "events['app'] = events['app'].astype(str)"
   ]
  },
  {
   "cell_type": "code",
   "execution_count": 6,
   "metadata": {
    "collapsed": false
   },
   "outputs": [
    {
     "data": {
      "text/plain": [
       "dtype('int64')"
      ]
     },
     "execution_count": 6,
     "metadata": {},
     "output_type": "execute_result"
    }
   ],
   "source": [
    "# 'time_seconds' is already an Integer.\n",
    "events['time_seconds'].dtype"
   ]
  },
  {
   "cell_type": "markdown",
   "metadata": {},
   "source": [
    "Now we merge the two dataframes to create a table that holds all of our data. This is like a join in SQL. We have the following four options with this method.\n",
    "\n",
    "* Left - use only keys from the left dataframe (similar to SQL left outer join).\n",
    "* Right - use only keys from the right dataframe (similar to SQL right outer join).\n",
    "* Outer - use union of keys from both dataframes (similar to SQL full outer join).\n",
    "* Inner - use intersection of keys from both dataframes (similar to SQL inner join).\n",
    "\n",
    "Here I will use an inner join."
   ]
  },
  {
   "cell_type": "code",
   "execution_count": 7,
   "metadata": {
    "collapsed": false
   },
   "outputs": [
    {
     "data": {
      "text/html": [
       "<div>\n",
       "<table border=\"1\" class=\"dataframe\">\n",
       "  <thead>\n",
       "    <tr style=\"text-align: right;\">\n",
       "      <th></th>\n",
       "      <th>user_id</th>\n",
       "      <th>install_date</th>\n",
       "      <th>app_version</th>\n",
       "      <th>user_session_id</th>\n",
       "      <th>event_timestamp</th>\n",
       "      <th>app</th>\n",
       "      <th>time_seconds</th>\n",
       "    </tr>\n",
       "  </thead>\n",
       "  <tbody>\n",
       "    <tr>\n",
       "      <th>0</th>\n",
       "      <td>000a0efdaf94f2a5a09ab0d03f92f5bf</td>\n",
       "      <td>2014-12-25</td>\n",
       "      <td>v1</td>\n",
       "      <td>d1fdd0d46f2aba7d216c3e1bfeabf0d8</td>\n",
       "      <td>2015-05-04 18:06:54</td>\n",
       "      <td>build</td>\n",
       "      <td>1469</td>\n",
       "    </tr>\n",
       "    <tr>\n",
       "      <th>1</th>\n",
       "      <td>000a0efdaf94f2a5a09ab0d03f92f5bf</td>\n",
       "      <td>2014-12-25</td>\n",
       "      <td>v1</td>\n",
       "      <td>7692f450607a0a518d564c0a1a15b805</td>\n",
       "      <td>2015-06-18 15:39:50</td>\n",
       "      <td>draw</td>\n",
       "      <td>220</td>\n",
       "    </tr>\n",
       "    <tr>\n",
       "      <th>2</th>\n",
       "      <td>000a0efdaf94f2a5a09ab0d03f92f5bf</td>\n",
       "      <td>2014-12-25</td>\n",
       "      <td>v1</td>\n",
       "      <td>f3501a97f8caae8e93764ff7a0a75a76</td>\n",
       "      <td>2015-06-20 10:59:22</td>\n",
       "      <td>draw</td>\n",
       "      <td>682</td>\n",
       "    </tr>\n",
       "    <tr>\n",
       "      <th>3</th>\n",
       "      <td>000a0efdaf94f2a5a09ab0d03f92f5bf</td>\n",
       "      <td>2014-12-25</td>\n",
       "      <td>v1</td>\n",
       "      <td>ce644b02c1d0ab9589ccfa5031a40c98</td>\n",
       "      <td>2016-01-31 18:44:01</td>\n",
       "      <td>draw</td>\n",
       "      <td>195</td>\n",
       "    </tr>\n",
       "    <tr>\n",
       "      <th>4</th>\n",
       "      <td>000a0efdaf94f2a5a09ab0d03f92f5bf</td>\n",
       "      <td>2014-12-25</td>\n",
       "      <td>v1</td>\n",
       "      <td>b6b9813985db55a4ccd08f9bc8cd6b4e</td>\n",
       "      <td>2016-01-31 19:27:12</td>\n",
       "      <td>build</td>\n",
       "      <td>261</td>\n",
       "    </tr>\n",
       "  </tbody>\n",
       "</table>\n",
       "</div>"
      ],
      "text/plain": [
       "                            user_id install_date app_version  \\\n",
       "0  000a0efdaf94f2a5a09ab0d03f92f5bf   2014-12-25          v1   \n",
       "1  000a0efdaf94f2a5a09ab0d03f92f5bf   2014-12-25          v1   \n",
       "2  000a0efdaf94f2a5a09ab0d03f92f5bf   2014-12-25          v1   \n",
       "3  000a0efdaf94f2a5a09ab0d03f92f5bf   2014-12-25          v1   \n",
       "4  000a0efdaf94f2a5a09ab0d03f92f5bf   2014-12-25          v1   \n",
       "\n",
       "                    user_session_id     event_timestamp    app  time_seconds  \n",
       "0  d1fdd0d46f2aba7d216c3e1bfeabf0d8 2015-05-04 18:06:54  build          1469  \n",
       "1  7692f450607a0a518d564c0a1a15b805 2015-06-18 15:39:50   draw           220  \n",
       "2  f3501a97f8caae8e93764ff7a0a75a76 2015-06-20 10:59:22   draw           682  \n",
       "3  ce644b02c1d0ab9589ccfa5031a40c98 2016-01-31 18:44:01   draw           195  \n",
       "4  b6b9813985db55a4ccd08f9bc8cd6b4e 2016-01-31 19:27:12  build           261  "
      ]
     },
     "execution_count": 7,
     "metadata": {},
     "output_type": "execute_result"
    }
   ],
   "source": [
    "big_table = pd.merge(users, events, how = 'inner', on = 'user_id')\n",
    "big_table.head()"
   ]
  },
  {
   "cell_type": "markdown",
   "metadata": {},
   "source": [
    "Later on I will be performing some analysis on what time of the day the app is being used. I'll write a couple of functions to address that."
   ]
  },
  {
   "cell_type": "code",
   "execution_count": 8,
   "metadata": {
    "collapsed": true
   },
   "outputs": [],
   "source": [
    "# Create a function to extract the hour from the 'event_timestamp'.\n",
    "def get_hour(timestamp):\n",
    "    return timestamp.hour"
   ]
  },
  {
   "cell_type": "code",
   "execution_count": 9,
   "metadata": {
    "collapsed": false
   },
   "outputs": [],
   "source": [
    "# Create a function to get the time of day from the hour.\n",
    "def get_time_of_day(h):\n",
    "    if (h >= 6) & (h < 9):\n",
    "        return 'early morning'\n",
    "    elif (h >= 9) & (h < 12): \n",
    "        return 'late morning'\n",
    "    elif (h >= 12) & (h < 14): \n",
    "        return 'lunchtime'\n",
    "    elif (h >= 14) & (h < 17): \n",
    "        return 'afternoon'\n",
    "    elif (h >= 17) & (h < 19): \n",
    "        return 'early evening'\n",
    "    elif (h >= 19) & (h < 22): \n",
    "        return 'late evening'\n",
    "    else:\n",
    "        return 'night'"
   ]
  },
  {
   "cell_type": "code",
   "execution_count": 10,
   "metadata": {
    "collapsed": false
   },
   "outputs": [
    {
     "data": {
      "text/html": [
       "<div>\n",
       "<table border=\"1\" class=\"dataframe\">\n",
       "  <thead>\n",
       "    <tr style=\"text-align: right;\">\n",
       "      <th></th>\n",
       "      <th>user_id</th>\n",
       "      <th>install_date</th>\n",
       "      <th>app_version</th>\n",
       "      <th>user_session_id</th>\n",
       "      <th>event_timestamp</th>\n",
       "      <th>app</th>\n",
       "      <th>time_seconds</th>\n",
       "      <th>time_of_day</th>\n",
       "    </tr>\n",
       "  </thead>\n",
       "  <tbody>\n",
       "    <tr>\n",
       "      <th>0</th>\n",
       "      <td>000a0efdaf94f2a5a09ab0d03f92f5bf</td>\n",
       "      <td>2014-12-25</td>\n",
       "      <td>v1</td>\n",
       "      <td>d1fdd0d46f2aba7d216c3e1bfeabf0d8</td>\n",
       "      <td>2015-05-04 18:06:54</td>\n",
       "      <td>build</td>\n",
       "      <td>1469</td>\n",
       "      <td>early evening</td>\n",
       "    </tr>\n",
       "    <tr>\n",
       "      <th>1</th>\n",
       "      <td>000a0efdaf94f2a5a09ab0d03f92f5bf</td>\n",
       "      <td>2014-12-25</td>\n",
       "      <td>v1</td>\n",
       "      <td>7692f450607a0a518d564c0a1a15b805</td>\n",
       "      <td>2015-06-18 15:39:50</td>\n",
       "      <td>draw</td>\n",
       "      <td>220</td>\n",
       "      <td>afternoon</td>\n",
       "    </tr>\n",
       "  </tbody>\n",
       "</table>\n",
       "</div>"
      ],
      "text/plain": [
       "                            user_id install_date app_version  \\\n",
       "0  000a0efdaf94f2a5a09ab0d03f92f5bf   2014-12-25          v1   \n",
       "1  000a0efdaf94f2a5a09ab0d03f92f5bf   2014-12-25          v1   \n",
       "\n",
       "                    user_session_id     event_timestamp    app  time_seconds  \\\n",
       "0  d1fdd0d46f2aba7d216c3e1bfeabf0d8 2015-05-04 18:06:54  build          1469   \n",
       "1  7692f450607a0a518d564c0a1a15b805 2015-06-18 15:39:50   draw           220   \n",
       "\n",
       "     time_of_day  \n",
       "0  early evening  \n",
       "1      afternoon  "
      ]
     },
     "execution_count": 10,
     "metadata": {},
     "output_type": "execute_result"
    }
   ],
   "source": [
    "# Apply the above two functions to create a 'time_of_day' column.\n",
    "big_table['time_of_day'] = big_table['event_timestamp'].apply(get_hour).apply(get_time_of_day)\n",
    "big_table.head(2)"
   ]
  },
  {
   "cell_type": "markdown",
   "metadata": {},
   "source": [
    "In this task I will see how the KPIs compare for each version of the app. In order to facilitate this I'll create three new dataframes for versions 1, 2 and 3."
   ]
  },
  {
   "cell_type": "code",
   "execution_count": 11,
   "metadata": {
    "collapsed": false
   },
   "outputs": [],
   "source": [
    "v1 = big_table[big_table['app_version'] == 'v1']\n",
    "v2 = big_table[big_table['app_version'] == 'v2']\n",
    "v3 = big_table[big_table['app_version'] == 'v3']"
   ]
  },
  {
   "cell_type": "markdown",
   "metadata": {},
   "source": [
    "Ok great, we now have a central dataframe with all of the joined data and from this three separate dataframes for each of the app versions. We can now start to perform the analysis."
   ]
  },
  {
   "cell_type": "markdown",
   "metadata": {},
   "source": [
    "---"
   ]
  },
  {
   "cell_type": "markdown",
   "metadata": {},
   "source": [
    "## Installation Date"
   ]
  },
  {
   "cell_type": "markdown",
   "metadata": {},
   "source": [
    "Just to start us off, let's see when people downloaded the app. As the table below shows, the top ten days for downloading were always during the week commencing at Christmas."
   ]
  },
  {
   "cell_type": "code",
   "execution_count": 12,
   "metadata": {
    "collapsed": false
   },
   "outputs": [
    {
     "data": {
      "text/html": [
       "<div>\n",
       "<table border=\"1\" class=\"dataframe\">\n",
       "  <thead>\n",
       "    <tr style=\"text-align: right;\">\n",
       "      <th></th>\n",
       "      <th>install_date</th>\n",
       "    </tr>\n",
       "  </thead>\n",
       "  <tbody>\n",
       "    <tr>\n",
       "      <th>2015-12-25</th>\n",
       "      <td>334</td>\n",
       "    </tr>\n",
       "    <tr>\n",
       "      <th>2014-12-25</th>\n",
       "      <td>172</td>\n",
       "    </tr>\n",
       "    <tr>\n",
       "      <th>2015-12-26</th>\n",
       "      <td>133</td>\n",
       "    </tr>\n",
       "    <tr>\n",
       "      <th>2015-12-27</th>\n",
       "      <td>125</td>\n",
       "    </tr>\n",
       "    <tr>\n",
       "      <th>2015-12-28</th>\n",
       "      <td>80</td>\n",
       "    </tr>\n",
       "    <tr>\n",
       "      <th>2014-12-26</th>\n",
       "      <td>80</td>\n",
       "    </tr>\n",
       "    <tr>\n",
       "      <th>2015-12-29</th>\n",
       "      <td>59</td>\n",
       "    </tr>\n",
       "    <tr>\n",
       "      <th>2016-01-02</th>\n",
       "      <td>47</td>\n",
       "    </tr>\n",
       "    <tr>\n",
       "      <th>2015-12-30</th>\n",
       "      <td>47</td>\n",
       "    </tr>\n",
       "    <tr>\n",
       "      <th>2015-12-31</th>\n",
       "      <td>43</td>\n",
       "    </tr>\n",
       "  </tbody>\n",
       "</table>\n",
       "</div>"
      ],
      "text/plain": [
       "            install_date\n",
       "2015-12-25           334\n",
       "2014-12-25           172\n",
       "2015-12-26           133\n",
       "2015-12-27           125\n",
       "2015-12-28            80\n",
       "2014-12-26            80\n",
       "2015-12-29            59\n",
       "2016-01-02            47\n",
       "2015-12-30            47\n",
       "2015-12-31            43"
      ]
     },
     "execution_count": 12,
     "metadata": {},
     "output_type": "execute_result"
    }
   ],
   "source": [
    "pd.DataFrame(pd.value_counts(users.install_date)).head(10)"
   ]
  },
  {
   "cell_type": "markdown",
   "metadata": {},
   "source": [
    "The chart below shows significant spikes at Christmas time relative to the rest of the year."
   ]
  },
  {
   "cell_type": "code",
   "execution_count": 13,
   "metadata": {
    "collapsed": false
   },
   "outputs": [
    {
     "data": {
      "image/png": "[encoded data removed]",
      "text/plain": [
       "<matplotlib.figure.Figure at 0x11556b750>"
      ]
     },
     "metadata": {},
     "output_type": "display_data"
    }
   ],
   "source": [
    "users_by_date = pd.DataFrame(pd.value_counts(users.install_date)).sort_index()\n",
    "\n",
    "plt.figure(figsize = (12, 4))\n",
    "plt.plot(users_by_date.index, users_by_date['install_date'])\n",
    "plt.xticks(fontsize = 8, rotation = 30)\n",
    "plt.ylabel('Number of Downloads')\n",
    "plt.title('Chart showing download history against time')\n",
    "plt.show()"
   ]
  },
  {
   "cell_type": "markdown",
   "metadata": {},
   "source": [
    "---"
   ]
  },
  {
   "cell_type": "markdown",
   "metadata": {},
   "source": [
    "## Number of Users"
   ]
  },
  {
   "cell_type": "markdown",
   "metadata": {},
   "source": [
    "Let's investigate the *users* data."
   ]
  },
  {
   "cell_type": "code",
   "execution_count": 14,
   "metadata": {
    "collapsed": false
   },
   "outputs": [
    {
     "data": {
      "text/plain": [
       "3900"
      ]
     },
     "execution_count": 14,
     "metadata": {},
     "output_type": "execute_result"
    }
   ],
   "source": [
    "len(users.user_id.unique())"
   ]
  },
  {
   "cell_type": "markdown",
   "metadata": {},
   "source": [
    "We have 3,900 unique users. How does that break down by app version?"
   ]
  },
  {
   "cell_type": "code",
   "execution_count": 15,
   "metadata": {
    "collapsed": false
   },
   "outputs": [
    {
     "data": {
      "text/plain": [
       "v2         2596\n",
       "v1         1116\n",
       "v3          113\n",
       "Unknown      75\n",
       "Name: app_version, dtype: int64"
      ]
     },
     "execution_count": 15,
     "metadata": {},
     "output_type": "execute_result"
    }
   ],
   "source": [
    "pd.value_counts(users.app_version)"
   ]
  },
  {
   "cell_type": "code",
   "execution_count": 16,
   "metadata": {
    "collapsed": false
   },
   "outputs": [
    {
     "name": "stdout",
     "output_type": "stream",
     "text": [
      "v1 share of downloads 0.286153846154\n",
      "v2 share of downloads 0.665641025641\n",
      "v3 share of downloads 0.0289743589744\n",
      "Unknown share of downloads 0.0192307692308\n"
     ]
    }
   ],
   "source": [
    "print 'v1 share of downloads', 1116 / 3900\n",
    "print 'v2 share of downloads', 2596 / 3900\n",
    "print 'v3 share of downloads', 113 / 3900\n",
    "print 'Unknown share of downloads', 75 / 3900"
   ]
  },
  {
   "cell_type": "markdown",
   "metadata": {},
   "source": [
    "We see that 66% of users have downloaded v2 with 29% using v1. Only 3% use v3 with 2% undefined.\n",
    "\n",
    "However, not all the people who downloaded the app went on to use it. We see that of 3,900 people to make a download, only 2,243 have triggered an event."
   ]
  },
  {
   "cell_type": "code",
   "execution_count": 17,
   "metadata": {
    "collapsed": false
   },
   "outputs": [
    {
     "name": "stdout",
     "output_type": "stream",
     "text": [
      "2243 unique users by event\n"
     ]
    }
   ],
   "source": [
    "print len(events.user_id.unique()), 'unique users by event'"
   ]
  },
  {
   "cell_type": "code",
   "execution_count": 18,
   "metadata": {
    "collapsed": false
   },
   "outputs": [
    {
     "data": {
      "text/plain": [
       "0.5751282051282052"
      ]
     },
     "execution_count": 18,
     "metadata": {},
     "output_type": "execute_result"
    }
   ],
   "source": [
    "2243 / 3900"
   ]
  },
  {
   "cell_type": "markdown",
   "metadata": {},
   "source": [
    "So only 58% of people who download go on to be users.\n",
    "\n",
    "How do the number of users vary by the app version?"
   ]
  },
  {
   "cell_type": "code",
   "execution_count": 19,
   "metadata": {
    "collapsed": false
   },
   "outputs": [
    {
     "name": "stdout",
     "output_type": "stream",
     "text": [
      "218 unique users of v1\n",
      "1940 unique users of v2\n",
      "85 unique users of v3\n"
     ]
    }
   ],
   "source": [
    "print len(v1.user_id.unique()), 'unique users of v1'\n",
    "print len(v2.user_id.unique()), 'unique users of v2'\n",
    "print len(v3.user_id.unique()), 'unique users of v3'"
   ]
  },
  {
   "cell_type": "markdown",
   "metadata": {},
   "source": [
    "Of the people who downloaded the app, which version has the highest usage yield?"
   ]
  },
  {
   "cell_type": "code",
   "execution_count": 20,
   "metadata": {
    "collapsed": false
   },
   "outputs": [
    {
     "name": "stdout",
     "output_type": "stream",
     "text": [
      "v1 yield 0.195340501792\n",
      "v2 yield 0.747303543914\n",
      "v3 yield 0.752212389381\n"
     ]
    }
   ],
   "source": [
    "print 'v1 yield', 218/1116\n",
    "print 'v2 yield', 1940/2596\n",
    "print 'v3 yield', 85/113"
   ]
  },
  {
   "cell_type": "markdown",
   "metadata": {},
   "source": [
    "So we see that versions 2 and 3 have very similar usage rates - around three quarters of users who downloaded these versions went on to use them."
   ]
  },
  {
   "cell_type": "markdown",
   "metadata": {},
   "source": [
    "---"
   ]
  },
  {
   "cell_type": "markdown",
   "metadata": {
    "collapsed": true
   },
   "source": [
    "## Monthly Active Users"
   ]
  },
  {
   "cell_type": "markdown",
   "metadata": {},
   "source": [
    "Before we begin, I need to specify what an active user is. I will input an *active threshold* which is the number of visits per month that a user must make to qualify as being 'active'. This is arbitrary and can be changed."
   ]
  },
  {
   "cell_type": "code",
   "execution_count": 21,
   "metadata": {
    "collapsed": true
   },
   "outputs": [],
   "source": [
    "# Input the active threshold here. It can be anything you choose.\n",
    "\n",
    "active_threshold = 10"
   ]
  },
  {
   "cell_type": "markdown",
   "metadata": {},
   "source": [
    "Get the earliest and latest timestamps from the data, then create a list of months."
   ]
  },
  {
   "cell_type": "code",
   "execution_count": 22,
   "metadata": {
    "collapsed": false
   },
   "outputs": [
    {
     "name": "stdout",
     "output_type": "stream",
     "text": [
      "Earliest data point 2015-03-07 00:39:33\n",
      "Latest data point 2016-10-05 16:57:16\n"
     ]
    }
   ],
   "source": [
    "print 'Earliest data point', big_table['event_timestamp'].min()\n",
    "print 'Latest data point', big_table['event_timestamp'].max()"
   ]
  },
  {
   "cell_type": "code",
   "execution_count": 23,
   "metadata": {
    "collapsed": false
   },
   "outputs": [],
   "source": [
    "dates = ['2015-03-01',\n",
    "         '2015-04-01',\n",
    "         '2015-05-01',\n",
    "         '2015-06-01',\n",
    "         '2015-07-01',\n",
    "         '2015-08-01',\n",
    "         '2015-09-01',\n",
    "         '2015-10-01',\n",
    "         '2015-11-01',\n",
    "         '2015-12-01',\n",
    "         '2016-01-01',\n",
    "         '2016-02-01',\n",
    "         '2016-03-01',\n",
    "         '2016-04-01',\n",
    "         '2016-05-01',\n",
    "         '2016-06-01',\n",
    "         '2016-07-01',\n",
    "         '2016-08-01',\n",
    "         '2016-09-01',\n",
    "         '2016-10-01',\n",
    "         '2016-11-01']"
   ]
  },
  {
   "cell_type": "code",
   "execution_count": 24,
   "metadata": {
    "collapsed": true
   },
   "outputs": [],
   "source": [
    "# this deals with deprecations, copy warnings etc.\n",
    "import warnings\n",
    "warnings.filterwarnings('ignore')"
   ]
  },
  {
   "cell_type": "markdown",
   "metadata": {},
   "source": [
    "Here I extract the monthly active user data by using a *for* loop with an *and* statement. I loop through the Version 1 dataframe created earlier and extract the rows within the endpoints for the month in question.\n",
    "\n",
    "Then I use the *groupby* function to create a column with user visits before filtering with the *active threshold* defined above."
   ]
  },
  {
   "cell_type": "code",
   "execution_count": 25,
   "metadata": {
    "collapsed": false
   },
   "outputs": [
    {
     "name": "stdout",
     "output_type": "stream",
     "text": [
      "[0, 2, 5, 4, 1, 4, 2, 5, 2, 3, 2, 1, 0, 0, 0, 1, 0, 0, 1, 0]\n"
     ]
    }
   ],
   "source": [
    "# Monthly Active Users for Version 1.\n",
    "v1_mau = []\n",
    "for i in range(0, len(dates)-1):\n",
    "    month = v1[(v1['event_timestamp'] >= dates[i]) & (v1['event_timestamp'] < dates[i+1])]\n",
    "    month['freq'] = month.groupby('user_id')['user_id'].transform('count')\n",
    "    month = month[month['freq'] >= active_threshold]\n",
    "    n = len(month.user_id.unique())\n",
    "    v1_mau.append(n)\n",
    "print v1_mau"
   ]
  },
  {
   "cell_type": "code",
   "execution_count": 26,
   "metadata": {
    "collapsed": false
   },
   "outputs": [
    {
     "name": "stdout",
     "output_type": "stream",
     "text": [
      "[0, 0, 2, 11, 14, 13, 17, 10, 16, 199, 179, 69, 43, 42, 38, 21, 19, 8, 10, 0]\n"
     ]
    }
   ],
   "source": [
    "# Monthly Active Users for Version 2.\n",
    "v2_mau = []\n",
    "for i in range(0, len(dates)-1):\n",
    "    month = v2[(v2['event_timestamp'] >= dates[i]) & (v2['event_timestamp'] < dates[i+1])]\n",
    "    month['freq'] = month.groupby('user_id')['user_id'].transform('count')\n",
    "    month = month[month['freq'] >= active_threshold]\n",
    "    n = len(month.user_id.unique())\n",
    "    v2_mau.append(n)\n",
    "print v2_mau"
   ]
  },
  {
   "cell_type": "code",
   "execution_count": 27,
   "metadata": {
    "collapsed": false
   },
   "outputs": [
    {
     "name": "stdout",
     "output_type": "stream",
     "text": [
      "[0, 0, 0, 0, 0, 0, 0, 0, 0, 0, 0, 0, 0, 0, 1, 8, 14, 3, 1, 0]\n"
     ]
    }
   ],
   "source": [
    "# Monthly Active Users for Version 3.\n",
    "v3_mau = []\n",
    "for i in range(0, len(dates)-1):\n",
    "    month = v3[(v3['event_timestamp'] >= dates[i]) & (v3['event_timestamp'] < dates[i+1])]\n",
    "    month['freq'] = month.groupby('user_id')['user_id'].transform('count')\n",
    "    month = month[month['freq'] >= active_threshold]\n",
    "    n = len(month.user_id.unique())\n",
    "    v3_mau.append(n)\n",
    "print v3_mau"
   ]
  },
  {
   "cell_type": "markdown",
   "metadata": {},
   "source": [
    "Create a dataframe of the numbers just generated."
   ]
  },
  {
   "cell_type": "code",
   "execution_count": 28,
   "metadata": {
    "collapsed": false
   },
   "outputs": [
    {
     "data": {
      "text/html": [
       "<div>\n",
       "<table border=\"1\" class=\"dataframe\">\n",
       "  <thead>\n",
       "    <tr style=\"text-align: right;\">\n",
       "      <th></th>\n",
       "      <th>version_1</th>\n",
       "      <th>version_2</th>\n",
       "      <th>version_3</th>\n",
       "    </tr>\n",
       "  </thead>\n",
       "  <tbody>\n",
       "    <tr>\n",
       "      <th>2015-03-01</th>\n",
       "      <td>0</td>\n",
       "      <td>0</td>\n",
       "      <td>0</td>\n",
       "    </tr>\n",
       "    <tr>\n",
       "      <th>2015-04-01</th>\n",
       "      <td>2</td>\n",
       "      <td>0</td>\n",
       "      <td>0</td>\n",
       "    </tr>\n",
       "    <tr>\n",
       "      <th>2015-05-01</th>\n",
       "      <td>5</td>\n",
       "      <td>2</td>\n",
       "      <td>0</td>\n",
       "    </tr>\n",
       "    <tr>\n",
       "      <th>2015-06-01</th>\n",
       "      <td>4</td>\n",
       "      <td>11</td>\n",
       "      <td>0</td>\n",
       "    </tr>\n",
       "    <tr>\n",
       "      <th>2015-07-01</th>\n",
       "      <td>1</td>\n",
       "      <td>14</td>\n",
       "      <td>0</td>\n",
       "    </tr>\n",
       "    <tr>\n",
       "      <th>2015-08-01</th>\n",
       "      <td>4</td>\n",
       "      <td>13</td>\n",
       "      <td>0</td>\n",
       "    </tr>\n",
       "    <tr>\n",
       "      <th>2015-09-01</th>\n",
       "      <td>2</td>\n",
       "      <td>17</td>\n",
       "      <td>0</td>\n",
       "    </tr>\n",
       "    <tr>\n",
       "      <th>2015-10-01</th>\n",
       "      <td>5</td>\n",
       "      <td>10</td>\n",
       "      <td>0</td>\n",
       "    </tr>\n",
       "    <tr>\n",
       "      <th>2015-11-01</th>\n",
       "      <td>2</td>\n",
       "      <td>16</td>\n",
       "      <td>0</td>\n",
       "    </tr>\n",
       "    <tr>\n",
       "      <th>2015-12-01</th>\n",
       "      <td>3</td>\n",
       "      <td>199</td>\n",
       "      <td>0</td>\n",
       "    </tr>\n",
       "    <tr>\n",
       "      <th>2016-01-01</th>\n",
       "      <td>2</td>\n",
       "      <td>179</td>\n",
       "      <td>0</td>\n",
       "    </tr>\n",
       "    <tr>\n",
       "      <th>2016-02-01</th>\n",
       "      <td>1</td>\n",
       "      <td>69</td>\n",
       "      <td>0</td>\n",
       "    </tr>\n",
       "    <tr>\n",
       "      <th>2016-03-01</th>\n",
       "      <td>0</td>\n",
       "      <td>43</td>\n",
       "      <td>0</td>\n",
       "    </tr>\n",
       "    <tr>\n",
       "      <th>2016-04-01</th>\n",
       "      <td>0</td>\n",
       "      <td>42</td>\n",
       "      <td>0</td>\n",
       "    </tr>\n",
       "    <tr>\n",
       "      <th>2016-05-01</th>\n",
       "      <td>0</td>\n",
       "      <td>38</td>\n",
       "      <td>1</td>\n",
       "    </tr>\n",
       "    <tr>\n",
       "      <th>2016-06-01</th>\n",
       "      <td>1</td>\n",
       "      <td>21</td>\n",
       "      <td>8</td>\n",
       "    </tr>\n",
       "    <tr>\n",
       "      <th>2016-07-01</th>\n",
       "      <td>0</td>\n",
       "      <td>19</td>\n",
       "      <td>14</td>\n",
       "    </tr>\n",
       "    <tr>\n",
       "      <th>2016-08-01</th>\n",
       "      <td>0</td>\n",
       "      <td>8</td>\n",
       "      <td>3</td>\n",
       "    </tr>\n",
       "    <tr>\n",
       "      <th>2016-09-01</th>\n",
       "      <td>1</td>\n",
       "      <td>10</td>\n",
       "      <td>1</td>\n",
       "    </tr>\n",
       "    <tr>\n",
       "      <th>2016-10-01</th>\n",
       "      <td>0</td>\n",
       "      <td>0</td>\n",
       "      <td>0</td>\n",
       "    </tr>\n",
       "  </tbody>\n",
       "</table>\n",
       "</div>"
      ],
      "text/plain": [
       "            version_1  version_2  version_3\n",
       "2015-03-01          0          0          0\n",
       "2015-04-01          2          0          0\n",
       "2015-05-01          5          2          0\n",
       "2015-06-01          4         11          0\n",
       "2015-07-01          1         14          0\n",
       "2015-08-01          4         13          0\n",
       "2015-09-01          2         17          0\n",
       "2015-10-01          5         10          0\n",
       "2015-11-01          2         16          0\n",
       "2015-12-01          3        199          0\n",
       "2016-01-01          2        179          0\n",
       "2016-02-01          1         69          0\n",
       "2016-03-01          0         43          0\n",
       "2016-04-01          0         42          0\n",
       "2016-05-01          0         38          1\n",
       "2016-06-01          1         21          8\n",
       "2016-07-01          0         19         14\n",
       "2016-08-01          0          8          3\n",
       "2016-09-01          1         10          1\n",
       "2016-10-01          0          0          0"
      ]
     },
     "execution_count": 28,
     "metadata": {},
     "output_type": "execute_result"
    }
   ],
   "source": [
    "my_data = {'version_1': v1_mau, 'version_2': v2_mau, 'version_3': v3_mau}\n",
    "date_labels = pd.to_datetime(dates[0:20])\n",
    "my_df = pd.DataFrame(data = my_data, index = date_labels)\n",
    "my_df"
   ]
  },
  {
   "cell_type": "markdown",
   "metadata": {},
   "source": [
    "Now plot the data."
   ]
  },
  {
   "cell_type": "code",
   "execution_count": 29,
   "metadata": {
    "collapsed": false
   },
   "outputs": [
    {
     "data": {
      "image/png": "[encoded data removed]",
      "text/plain": [
       "<matplotlib.figure.Figure at 0x11541a110>"
      ]
     },
     "metadata": {},
     "output_type": "display_data"
    },
    {
     "name": "stdout",
     "output_type": "stream",
     "text": [
      "Users defined as active if they make at least 10 visits per month.\n"
     ]
    }
   ],
   "source": [
    "plt.figure(figsize = (12,3))\n",
    "\n",
    "plt.subplot(1,3,1)\n",
    "plt.bar(date_labels, v1_mau, 25, label = 'Version 1', color = 'lightcoral')\n",
    "plt.title('Monthly Active Users for Version 1', size = 11)\n",
    "plt.xticks(size = 8, rotation = 45)\n",
    "\n",
    "plt.subplot(1,3,2)\n",
    "plt.bar(date_labels, v2_mau, 25, label = 'Version 2', color = 'darkseagreen')\n",
    "plt.title('Monthly Active Users for Version 2', size = 11)\n",
    "plt.xticks(size = 8, rotation = 45)\n",
    "\n",
    "plt.subplot(1,3,3)\n",
    "plt.bar(date_labels, v3_mau, 25, label = 'Version 3', color = 'cornflowerblue')\n",
    "plt.title('Monthly Active Users for Version 3', size = 11)\n",
    "plt.xticks(size = 8, rotation = 45)\n",
    "\n",
    "plt.show()\n",
    "\n",
    "print 'Users defined as active if they make at least', active_threshold, 'visits per month.'"
   ]
  },
  {
   "cell_type": "markdown",
   "metadata": {},
   "source": [
    "In absolute terms, we see how version 2 takes the lion's share of active users, reaching 199 in December 2015.\n",
    "\n",
    "We saw earlier how, of the 2,243 downloaders who went on to use the app, 218 were on version 1 and 1,940 were on version 2. This is a ratio of 8.9.\n",
    "\n",
    "So, even on a proportional basis, we see that version 2 has a far greater active user base than version 1, especially at peak times.\n",
    "\n",
    "Version 3 certainly punches above its weight though. It only has 85 active downloads but performs well in the summer months after launch. On a like for like basis it appears to outperform previous versions.\n",
    "\n",
    "To visualise these 'proportional' usages see the chart below. It shows active users on a normalised basis."
   ]
  },
  {
   "cell_type": "code",
   "execution_count": 30,
   "metadata": {
    "collapsed": false
   },
   "outputs": [],
   "source": [
    "v1_mau_norm = []\n",
    "for i in v1_mau:\n",
    "    v1_mau_norm.append(i/218)\n",
    "    \n",
    "v2_mau_norm = []\n",
    "for i in v2_mau:\n",
    "    v2_mau_norm.append(i/1940)\n",
    "    \n",
    "v3_mau_norm = []\n",
    "for i in v3_mau:\n",
    "    v3_mau_norm.append(i/85)"
   ]
  },
  {
   "cell_type": "code",
   "execution_count": 31,
   "metadata": {
    "collapsed": false
   },
   "outputs": [
    {
     "data": {
      "image/png": "[encoded data removed]",
      "text/plain": [
       "<matplotlib.figure.Figure at 0x11543a350>"
      ]
     },
     "metadata": {},
     "output_type": "display_data"
    }
   ],
   "source": [
    "plt.figure(figsize = (6,3))\n",
    "plt.plot(date_labels, v1_mau_norm, label = 'Version 1', color = 'lightcoral')\n",
    "plt.plot(date_labels, v2_mau_norm, label = 'Version 2', color = 'darkseagreen')\n",
    "plt.plot(date_labels, v3_mau_norm, label = 'Version 3', color = 'cornflowerblue')\n",
    "plt.xticks(size = 8, rotation = 45)\n",
    "plt.legend(loc = 'top left')\n",
    "plt.title('Normalised Monthly Active Users')\n",
    "plt.show()"
   ]
  },
  {
   "cell_type": "markdown",
   "metadata": {},
   "source": [
    "The chart shows that the active usage for the app increases with each version released. Very encouraging! However, we must be mindful that v3 does not have many users so more data is required to back this up."
   ]
  },
  {
   "cell_type": "markdown",
   "metadata": {},
   "source": [
    "---"
   ]
  },
  {
   "cell_type": "markdown",
   "metadata": {},
   "source": [
    "## Retention Rate"
   ]
  },
  {
   "cell_type": "markdown",
   "metadata": {},
   "source": [
    "With Retention Rates we are looking to see if a user who is active in any particular month is also active the month after (or three months after, six months after and so on)."
   ]
  },
  {
   "cell_type": "markdown",
   "metadata": {},
   "source": [
    "Define retention lag length below (in months)."
   ]
  },
  {
   "cell_type": "code",
   "execution_count": 32,
   "metadata": {
    "collapsed": true
   },
   "outputs": [],
   "source": [
    "# Set the retention timeframe (in months) here.\n",
    "\n",
    "lag = 1"
   ]
  },
  {
   "cell_type": "code",
   "execution_count": 33,
   "metadata": {
    "collapsed": false
   },
   "outputs": [
    {
     "name": "stdout",
     "output_type": "stream",
     "text": [
      "[14, 24, 14, 12, 11, 8, 11, 13, 7, 5, 5, 4, 4, 2, 2, 3, 3, 2, 0]\n"
     ]
    }
   ],
   "source": [
    "# Retention Rates for Version 1.\n",
    "v1_rr = []\n",
    "for i in range(0, len(dates)-2*lag):\n",
    "    period_1 = v1[(v1['event_timestamp'] >= dates[i]) & (v1['event_timestamp'] < dates[i+lag])]\n",
    "    period_2 = v1[(v1['event_timestamp'] >= dates[i+lag]) & (v1['event_timestamp'] < dates[i+2*lag])]\n",
    "    retentions = len(set([i for i in period_2.user_id.tolist() if i in period_1.user_id.tolist()]))\n",
    "    v1_rr.append(retentions)\n",
    "print v1_rr"
   ]
  },
  {
   "cell_type": "code",
   "execution_count": 34,
   "metadata": {
    "collapsed": false
   },
   "outputs": [
    {
     "name": "stdout",
     "output_type": "stream",
     "text": [
      "[0, 0, 18, 16, 26, 24, 32, 28, 43, 393, 266, 167, 135, 118, 86, 74, 55, 34, 10]\n"
     ]
    }
   ],
   "source": [
    "# Retention Rates for Version 2.\n",
    "v2_rr = []\n",
    "for i in range(0, len(dates)-2*lag):\n",
    "    period_1 = v2[(v2['event_timestamp'] >= dates[i]) & (v2['event_timestamp'] < dates[i+lag])]\n",
    "    period_2 = v2[(v2['event_timestamp'] >= dates[i+lag]) & (v2['event_timestamp'] < dates[i+2*lag])]\n",
    "    retentions = len(set([i for i in period_2.user_id.tolist() if i in period_1.user_id.tolist()]))\n",
    "    v2_rr.append(retentions)\n",
    "print v2_rr"
   ]
  },
  {
   "cell_type": "code",
   "execution_count": 35,
   "metadata": {
    "collapsed": false
   },
   "outputs": [
    {
     "name": "stdout",
     "output_type": "stream",
     "text": [
      "[0, 0, 0, 0, 0, 0, 0, 0, 0, 0, 0, 0, 0, 1, 0, 11, 21, 9, 2]\n"
     ]
    }
   ],
   "source": [
    "# Retention Rates for Version 3.\n",
    "v3_rr = []\n",
    "for i in range(0, len(dates)-2*lag):\n",
    "    period_1 = v3[(v3['event_timestamp'] >= dates[i]) & (v3['event_timestamp'] < dates[i+lag])]\n",
    "    period_2 = v3[(v3['event_timestamp'] >= dates[i+lag]) & (v3['event_timestamp'] < dates[i+2*lag])]\n",
    "    retentions = len(set([i for i in period_2.user_id.tolist() if i in period_1.user_id.tolist()]))\n",
    "    v3_rr.append(retentions)\n",
    "print v3_rr"
   ]
  },
  {
   "cell_type": "markdown",
   "metadata": {},
   "source": [
    "Create a dataframe to tabulate the data."
   ]
  },
  {
   "cell_type": "code",
   "execution_count": 36,
   "metadata": {
    "collapsed": false
   },
   "outputs": [
    {
     "data": {
      "text/html": [
       "<div>\n",
       "<table border=\"1\" class=\"dataframe\">\n",
       "  <thead>\n",
       "    <tr style=\"text-align: right;\">\n",
       "      <th></th>\n",
       "      <th>version_1</th>\n",
       "      <th>version_2</th>\n",
       "      <th>version_3</th>\n",
       "    </tr>\n",
       "  </thead>\n",
       "  <tbody>\n",
       "    <tr>\n",
       "      <th>2015-04-30</th>\n",
       "      <td>14</td>\n",
       "      <td>0</td>\n",
       "      <td>0</td>\n",
       "    </tr>\n",
       "    <tr>\n",
       "      <th>2015-05-31</th>\n",
       "      <td>24</td>\n",
       "      <td>0</td>\n",
       "      <td>0</td>\n",
       "    </tr>\n",
       "    <tr>\n",
       "      <th>2015-06-30</th>\n",
       "      <td>14</td>\n",
       "      <td>18</td>\n",
       "      <td>0</td>\n",
       "    </tr>\n",
       "    <tr>\n",
       "      <th>2015-07-31</th>\n",
       "      <td>12</td>\n",
       "      <td>16</td>\n",
       "      <td>0</td>\n",
       "    </tr>\n",
       "    <tr>\n",
       "      <th>2015-08-31</th>\n",
       "      <td>11</td>\n",
       "      <td>26</td>\n",
       "      <td>0</td>\n",
       "    </tr>\n",
       "    <tr>\n",
       "      <th>2015-09-30</th>\n",
       "      <td>8</td>\n",
       "      <td>24</td>\n",
       "      <td>0</td>\n",
       "    </tr>\n",
       "    <tr>\n",
       "      <th>2015-10-31</th>\n",
       "      <td>11</td>\n",
       "      <td>32</td>\n",
       "      <td>0</td>\n",
       "    </tr>\n",
       "    <tr>\n",
       "      <th>2015-11-30</th>\n",
       "      <td>13</td>\n",
       "      <td>28</td>\n",
       "      <td>0</td>\n",
       "    </tr>\n",
       "    <tr>\n",
       "      <th>2015-12-31</th>\n",
       "      <td>7</td>\n",
       "      <td>43</td>\n",
       "      <td>0</td>\n",
       "    </tr>\n",
       "    <tr>\n",
       "      <th>2016-01-31</th>\n",
       "      <td>5</td>\n",
       "      <td>393</td>\n",
       "      <td>0</td>\n",
       "    </tr>\n",
       "    <tr>\n",
       "      <th>2016-02-29</th>\n",
       "      <td>5</td>\n",
       "      <td>266</td>\n",
       "      <td>0</td>\n",
       "    </tr>\n",
       "    <tr>\n",
       "      <th>2016-03-31</th>\n",
       "      <td>4</td>\n",
       "      <td>167</td>\n",
       "      <td>0</td>\n",
       "    </tr>\n",
       "    <tr>\n",
       "      <th>2016-04-30</th>\n",
       "      <td>4</td>\n",
       "      <td>135</td>\n",
       "      <td>0</td>\n",
       "    </tr>\n",
       "    <tr>\n",
       "      <th>2016-05-31</th>\n",
       "      <td>2</td>\n",
       "      <td>118</td>\n",
       "      <td>1</td>\n",
       "    </tr>\n",
       "    <tr>\n",
       "      <th>2016-06-30</th>\n",
       "      <td>2</td>\n",
       "      <td>86</td>\n",
       "      <td>0</td>\n",
       "    </tr>\n",
       "    <tr>\n",
       "      <th>2016-07-31</th>\n",
       "      <td>3</td>\n",
       "      <td>74</td>\n",
       "      <td>11</td>\n",
       "    </tr>\n",
       "    <tr>\n",
       "      <th>2016-08-31</th>\n",
       "      <td>3</td>\n",
       "      <td>55</td>\n",
       "      <td>21</td>\n",
       "    </tr>\n",
       "    <tr>\n",
       "      <th>2016-09-30</th>\n",
       "      <td>2</td>\n",
       "      <td>34</td>\n",
       "      <td>9</td>\n",
       "    </tr>\n",
       "    <tr>\n",
       "      <th>2016-10-31</th>\n",
       "      <td>0</td>\n",
       "      <td>10</td>\n",
       "      <td>2</td>\n",
       "    </tr>\n",
       "  </tbody>\n",
       "</table>\n",
       "</div>"
      ],
      "text/plain": [
       "            version_1  version_2  version_3\n",
       "2015-04-30         14          0          0\n",
       "2015-05-31         24          0          0\n",
       "2015-06-30         14         18          0\n",
       "2015-07-31         12         16          0\n",
       "2015-08-31         11         26          0\n",
       "2015-09-30          8         24          0\n",
       "2015-10-31         11         32          0\n",
       "2015-11-30         13         28          0\n",
       "2015-12-31          7         43          0\n",
       "2016-01-31          5        393          0\n",
       "2016-02-29          5        266          0\n",
       "2016-03-31          4        167          0\n",
       "2016-04-30          4        135          0\n",
       "2016-05-31          2        118          1\n",
       "2016-06-30          2         86          0\n",
       "2016-07-31          3         74         11\n",
       "2016-08-31          3         55         21\n",
       "2016-09-30          2         34          9\n",
       "2016-10-31          0         10          2"
      ]
     },
     "execution_count": 36,
     "metadata": {},
     "output_type": "execute_result"
    }
   ],
   "source": [
    "my_data_2 = {'version_1': v1_rr, 'version_2': v2_rr, 'version_3': v3_rr}\n",
    "date_labels = pd.to_datetime(dates[2*lag:21])\n",
    "date_labels = [d - timedelta(days = 1) for d in date_labels]\n",
    "my_df_2 = pd.DataFrame(data = my_data_2, index = date_labels)\n",
    "my_df_2"
   ]
  },
  {
   "cell_type": "markdown",
   "metadata": {},
   "source": [
    "Now plot the data."
   ]
  },
  {
   "cell_type": "code",
   "execution_count": 37,
   "metadata": {
    "collapsed": false
   },
   "outputs": [
    {
     "data": {
      "image/png": "[encoded data removed]",
      "text/plain": [
       "<matplotlib.figure.Figure at 0x115193690>"
      ]
     },
     "metadata": {},
     "output_type": "display_data"
    },
    {
     "name": "stdout",
     "output_type": "stream",
     "text": [
      "Period evaluated over 1 month.\n"
     ]
    }
   ],
   "source": [
    "plt.figure(figsize = (12,3))\n",
    "\n",
    "plt.subplot(1,3,1)\n",
    "plt.bar(date_labels, v1_rr, 25, label = 'Version 1', color = 'firebrick')\n",
    "plt.title('Retention Rates for Version 1', size = 11)\n",
    "plt.xticks(size = 8, rotation = 45)\n",
    "\n",
    "plt.subplot(1,3,2)\n",
    "plt.bar(date_labels, v2_rr, 25, label = 'Version 2', color = 'darkgreen')\n",
    "plt.title('Retention Rates for Version 2', size = 11)\n",
    "plt.xticks(size = 8, rotation = 45)\n",
    "\n",
    "plt.subplot(1,3,3)\n",
    "plt.bar(date_labels, v3_rr, 25, label = 'Version 3', color = 'midnightblue')\n",
    "plt.title('Retention Rates for Version 3', size = 11)\n",
    "plt.xticks(size = 8, rotation = 45)\n",
    "\n",
    "plt.show()\n",
    "\n",
    "print 'Period evaluated over', lag, 'month.'"
   ]
  },
  {
   "cell_type": "markdown",
   "metadata": {},
   "source": [
    "We see here retention rates using a rolling 1 month window. With version 1 we see that retention rates are falling over the period in question. With version 2 however, there is a large spike in January 2016 with attenuation downwards after that. Version 3 does show a more positive result, with retention rates actually increasing, albeit on the back of a relatively short product lifecycle so far.\n",
    "\n",
    "Now let's look at the normalised data relative to active downloads."
   ]
  },
  {
   "cell_type": "code",
   "execution_count": 38,
   "metadata": {
    "collapsed": true
   },
   "outputs": [],
   "source": [
    "v1_rr_norm = []\n",
    "for i in v1_rr:\n",
    "    v1_rr_norm.append(i/218)\n",
    "    \n",
    "v2_rr_norm = []\n",
    "for i in v2_rr:\n",
    "    v2_rr_norm.append(i/1940)\n",
    "    \n",
    "v3_rr_norm = []\n",
    "for i in v3_rr:\n",
    "    v3_rr_norm.append(i/85)"
   ]
  },
  {
   "cell_type": "code",
   "execution_count": 39,
   "metadata": {
    "collapsed": false,
    "scrolled": true
   },
   "outputs": [
    {
     "data": {
      "image/png": "[encoded data removed]",
      "text/plain": [
       "<matplotlib.figure.Figure at 0x116287550>"
      ]
     },
     "metadata": {},
     "output_type": "display_data"
    }
   ],
   "source": [
    "plt.figure(figsize = (6,3))\n",
    "plt.plot(date_labels, v1_rr_norm, label = 'Version 1', color = 'firebrick')\n",
    "plt.plot(date_labels, v2_rr_norm, label = 'Version 2', color = 'darkgreen')\n",
    "plt.plot(date_labels, v3_rr_norm, label = 'Version 3', color = 'midnightblue')\n",
    "plt.xticks(size = 8, rotation = 45)\n",
    "plt.legend(loc = 'top left')\n",
    "plt.title('Normalised Retention Rates')\n",
    "plt.show()"
   ]
  },
  {
   "cell_type": "markdown",
   "metadata": {},
   "source": [
    "We see that Version 3 has higher Retention Rates than previous versions, with a quarter of users from July 2016 revisiting the app the following month."
   ]
  },
  {
   "cell_type": "markdown",
   "metadata": {},
   "source": [
    "---"
   ]
  },
  {
   "cell_type": "markdown",
   "metadata": {},
   "source": [
    "## Time in Application"
   ]
  },
  {
   "cell_type": "code",
   "execution_count": 40,
   "metadata": {
    "collapsed": false
   },
   "outputs": [
    {
     "data": {
      "image/png": "[encoded data removed]",
      "text/plain": [
       "<matplotlib.figure.Figure at 0x116c62f50>"
      ]
     },
     "metadata": {},
     "output_type": "display_data"
    }
   ],
   "source": [
    "plt.figure(figsize = (12,3))\n",
    "\n",
    "plt.subplot(1,3,1)\n",
    "plt.hist(v1.time_seconds/60, bins = 25, color = 'lightcoral')\n",
    "plt.title('Version 1')\n",
    "\n",
    "plt.subplot(1,3,2)\n",
    "plt.hist(v2.time_seconds/60, bins = 25, color = 'darkseagreen')\n",
    "plt.title('Version 2')\n",
    "\n",
    "plt.subplot(1,3,3)\n",
    "plt.hist(v3.time_seconds/60, bins = 25, color = 'cornflowerblue')\n",
    "plt.title('Version 3')\n",
    "\n",
    "plt.show()"
   ]
  },
  {
   "cell_type": "markdown",
   "metadata": {},
   "source": [
    "These histograms show a fairly similar profile for each of the three versions when we look at time in application. The bars represent around 5 minutes each. We can see that many users drop off in the first five minutes.\n",
    "\n",
    "On version 3 however, we do see a slight stabilisation between 10 and 20 minutes which we don't get for the previous versions. This would suggest that the new version has improved retention during this time span.\n",
    "\n",
    "Let's now see how the *Time in Application* changes depending on the time of day."
   ]
  },
  {
   "cell_type": "code",
   "execution_count": 41,
   "metadata": {
    "collapsed": false
   },
   "outputs": [
    {
     "data": {
      "text/plain": [
       "time_of_day\n",
       "afternoon        16.346736\n",
       "early evening    15.175180\n",
       "early morning    17.168561\n",
       "late evening     14.538350\n",
       "late morning     16.362688\n",
       "lunchtime        16.906656\n",
       "night            14.048636\n",
       "Name: time_seconds, dtype: float64"
      ]
     },
     "execution_count": 41,
     "metadata": {},
     "output_type": "execute_result"
    }
   ],
   "source": [
    "big_table.groupby(['time_of_day'])['time_seconds'].mean()/60"
   ]
  },
  {
   "cell_type": "markdown",
   "metadata": {},
   "source": [
    "Here we see that the early morning and lunchtime periods are when users spend the longest on the app, typically 17 minutes. People spend less time after 7pm, averaging just over 14 minutes."
   ]
  },
  {
   "cell_type": "code",
   "execution_count": 42,
   "metadata": {
    "collapsed": false
   },
   "outputs": [
    {
     "data": {
      "image/png": "[encoded data removed]",
      "text/plain": [
       "<matplotlib.figure.Figure at 0x116c77cd0>"
      ]
     },
     "metadata": {},
     "output_type": "display_data"
    }
   ],
   "source": [
    "(big_table.groupby(['app_version', 'time_of_day'])['time_seconds'].mean()/60).unstack().plot(kind = 'bar', figsize = (12,5))\n",
    "plt.xticks(rotation = 0)\n",
    "plt.ylim(10,26)\n",
    "plt.legend(loc = 'best')\n",
    "plt.title('Average time spent in app for each version')\n",
    "plt.show()"
   ]
  },
  {
   "cell_type": "markdown",
   "metadata": {},
   "source": [
    "Here we see that late morning is becoming less popular with each version of the app, but version 3 users spend longest on the app in the early morning and at lunchtime."
   ]
  },
  {
   "cell_type": "markdown",
   "metadata": {},
   "source": [
    "---"
   ]
  },
  {
   "cell_type": "markdown",
   "metadata": {},
   "source": [
    "## Content Type"
   ]
  },
  {
   "cell_type": "markdown",
   "metadata": {},
   "source": [
    "Ok, so we looked earlier at downloads by app version. What about the content that users are looking at?"
   ]
  },
  {
   "cell_type": "code",
   "execution_count": 43,
   "metadata": {
    "collapsed": false
   },
   "outputs": [
    {
     "data": {
      "text/plain": [
       "27726"
      ]
     },
     "execution_count": 43,
     "metadata": {},
     "output_type": "execute_result"
    }
   ],
   "source": [
    "events.app.count()"
   ]
  },
  {
   "cell_type": "markdown",
   "metadata": {},
   "source": [
    "We have 27,726 events to look at."
   ]
  },
  {
   "cell_type": "code",
   "execution_count": 44,
   "metadata": {
    "collapsed": false
   },
   "outputs": [
    {
     "data": {
      "text/plain": [
       "build    15299\n",
       "draw      8021\n",
       "learn     4406\n",
       "Name: app, dtype: int64"
      ]
     },
     "execution_count": 44,
     "metadata": {},
     "output_type": "execute_result"
    }
   ],
   "source": [
    "pd.value_counts(events.app)"
   ]
  },
  {
   "cell_type": "code",
   "execution_count": 45,
   "metadata": {
    "collapsed": false
   },
   "outputs": [
    {
     "name": "stdout",
     "output_type": "stream",
     "text": [
      "Build share of usage 0.551792541297\n",
      "Draw share of usage 0.289295246339\n",
      "Learn share of usage 0.158912212364\n"
     ]
    }
   ],
   "source": [
    "print 'Build share of usage', 15299 / events.app.count()\n",
    "print 'Draw share of usage', 8021 / events.app.count()\n",
    "print 'Learn share of usage', 4406 / events.app.count()"
   ]
  },
  {
   "cell_type": "markdown",
   "metadata": {
    "collapsed": true
   },
   "source": [
    "Of all the visits to the site\n",
    "* 55% of users are building.\n",
    "* 29% of users are drawing.\n",
    "* 16% of users are learning."
   ]
  },
  {
   "cell_type": "code",
   "execution_count": 46,
   "metadata": {
    "collapsed": false
   },
   "outputs": [
    {
     "data": {
      "image/png": "[encoded data removed]",
      "text/plain": [
       "<matplotlib.figure.Figure at 0x116c776d0>"
      ]
     },
     "metadata": {},
     "output_type": "display_data"
    }
   ],
   "source": [
    "chart = (big_table.groupby(['app_version', 'app'])['time_seconds'].median()/60).unstack()\n",
    "chart.plot(kind = 'bar', width = 0.7, figsize = (12,5))\n",
    "plt.xticks(rotation = 0)\n",
    "plt.title('Median Time in Application by Version')\n",
    "plt.show()"
   ]
  },
  {
   "cell_type": "markdown",
   "metadata": {},
   "source": [
    "In the above data I have taken the median time in application for each version, grouped by the activity type. We see that for building, the time in application falls with each new version, albeit not dramatically. Drawing falls off for version 2 but recovers somewhat with version 3. Learning, however, falls for version 2 but sees a significant spike upwards for version 3. This suggests that even though people are spending less time building with the latest version, they are engaging more with understanding the new app."
   ]
  },
  {
   "cell_type": "markdown",
   "metadata": {},
   "source": [
    "---"
   ]
  },
  {
   "cell_type": "markdown",
   "metadata": {},
   "source": [
    "## Conclusions"
   ]
  },
  {
   "cell_type": "markdown",
   "metadata": {},
   "source": [
    "* The vast majority of downloads occur around the Christmas period. Of the people who downloaded versions 2 and 3, around three quarters went on to use it.\n",
    "\n",
    "* Even though version 3 is still quite new, it has a higher normalised active user rate than its predecessors. Retention rates seemed to improve too, albeit on the back of limited data.\n",
    "\n",
    "* The first five minutes is key in retaining users. Many users drop off in this period, although version 3 did well at stabilising shutdowns between 10 and 20 minutes. Users spend longer on the app in the early morning and at lunchtime.\n",
    "\n",
    "* The newest version of the app doesn't necessarily increase building or drawing time, but it does show a significant leap in users wanting to learn about the app."
   ]
  }
 ],
 "metadata": {
  "anaconda-cloud": {},
  "kernelspec": {
   "display_name": "Python [default]",
   "language": "python",
   "name": "python2"
  },
  "language_info": {
   "codemirror_mode": {
    "name": "ipython",
    "version": 2
   },
   "file_extension": ".py",
   "mimetype": "text/x-python",
   "name": "python",
   "nbconvert_exporter": "python",
   "pygments_lexer": "ipython2",
   "version": "2.7.12"
  }
 },
 "nbformat": 4,
 "nbformat_minor": 1
}
